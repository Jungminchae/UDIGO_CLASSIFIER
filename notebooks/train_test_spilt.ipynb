{
 "cells": [
  {
   "cell_type": "markdown",
   "metadata": {
    "toc": true
   },
   "source": [
    "<h1>Contents<span class=\"tocSkip\"></span></h1>\n",
    "<div class=\"toc\"><ul class=\"toc-item\"><li><span><a href=\"#test-디렉토리로-이미지-200장-이동\" data-toc-modified-id=\"test-디렉토리로-이미지-200장-이동-1\">test 디렉토리로 이미지 200장 이동</a></span></li><li><span><a href=\"#이미지-많은-카테고리-train-개수-줄이기\" data-toc-modified-id=\"이미지-많은-카테고리-train-개수-줄이기-2\">이미지 많은 카테고리 train 개수 줄이기</a></span></li></ul></div>"
   ]
  },
  {
   "cell_type": "markdown",
   "metadata": {},
   "source": [
    "# test 디렉토리로 이미지 200장 이동"
   ]
  },
  {
   "cell_type": "code",
   "execution_count": 1,
   "metadata": {},
   "outputs": [],
   "source": [
    "import os\n",
    "import glob\n",
    "import random"
   ]
  },
  {
   "cell_type": "code",
   "execution_count": 2,
   "metadata": {},
   "outputs": [],
   "source": [
    "work_dir = os.getenv('HOME') + '/UDIGO/dataset'"
   ]
  },
  {
   "cell_type": "code",
   "execution_count": 3,
   "metadata": {},
   "outputs": [
    {
     "data": {
      "text/plain": [
       "['산', '청와대', '농구장', '시장', '수영장', '미용실', '수상레포츠', '놀이공원', '야구장', '미술관']"
      ]
     },
     "execution_count": 3,
     "metadata": {},
     "output_type": "execute_result"
    }
   ],
   "source": [
    "folder_list = glob.glob(work_dir + '/train_data/*')\n",
    "categories = [folder.split('/')[-1] for folder in folder_list]\n",
    "categories[:10]"
   ]
  },
  {
   "cell_type": "code",
   "execution_count": 4,
   "metadata": {},
   "outputs": [],
   "source": [
    "test_dir = work_dir + '/test_data'\n",
    "image_count = {}\n",
    "\n",
    "for category in categories:\n",
    "    save_dir = os.path.join(test_dir, category)\n",
    "    if not os.path.exists(save_dir):\n",
    "        os.mkdir(save_dir)\n",
    "        \n",
    "    image_path = work_dir + f'/train_data/{category}'\n",
    "    image_list = glob.glob(image_path + '/*/*')\n",
    "    random.shuffle(image_list)\n",
    "    image_count[category] = len(image_list)\n",
    "    \n",
    "    for image in image_list[:200]:\n",
    "        filename = image.split('/')[-1]\n",
    "        os.rename(image, os.path.join(save_dir, filename))"
   ]
  },
  {
   "cell_type": "code",
   "execution_count": 6,
   "metadata": {},
   "outputs": [
    {
     "data": {
      "text/plain": [
       "[('병원', 7351),\n",
       " ('골프장', 7125),\n",
       " ('헬스장', 7047),\n",
       " ('공연장', 4665),\n",
       " ('해수욕장', 4267),\n",
       " ('궁궐', 3638),\n",
       " ('수상레포츠', 3582),\n",
       " ('박물관', 3066),\n",
       " ('지하철역', 2495),\n",
       " ('놀이공원', 2476),\n",
       " ('스키장', 2468),\n",
       " ('야구장', 2407),\n",
       " ('다리', 2356),\n",
       " ('베이커리', 2327),\n",
       " ('도서관', 2188),\n",
       " ('키즈카페', 2154),\n",
       " ('한옥마을', 2101),\n",
       " ('축구장', 2088),\n",
       " ('산', 2059),\n",
       " ('63빌딩', 2050),\n",
       " ('농구장', 2044),\n",
       " ('세빛섬', 2019),\n",
       " ('빨래방', 1989),\n",
       " ('PC방', 1938),\n",
       " ('아쿠아리움', 1922),\n",
       " ('볼링장', 1856),\n",
       " ('동물원', 1843),\n",
       " ('시장', 1790),\n",
       " ('대학교', 1767),\n",
       " ('숲', 1719),\n",
       " ('찜질방', 1686),\n",
       " ('식물원', 1654),\n",
       " ('폭포', 1599),\n",
       " ('아이스링크', 1514),\n",
       " ('공항', 1504),\n",
       " ('미술관', 1438),\n",
       " ('동대문디자인플라자', 1423),\n",
       " ('국회의사당', 1422),\n",
       " ('롯데월드타워', 1407),\n",
       " ('공원', 1389),\n",
       " ('미용실', 1385),\n",
       " ('놀이터', 1363),\n",
       " ('청와대', 1324),\n",
       " ('캠핑장', 1294),\n",
       " ('컨벤션센터', 1292),\n",
       " ('패스트푸드점', 1281),\n",
       " ('남산서울타워', 1265),\n",
       " ('호텔', 1260),\n",
       " ('쇼핑몰', 1236),\n",
       " ('절', 1232),\n",
       " ('성당', 1142),\n",
       " ('클럽', 1049),\n",
       " ('수영장', 1015),\n",
       " ('워터파크', 1015),\n",
       " ('교회', 971)]"
      ]
     },
     "execution_count": 6,
     "metadata": {},
     "output_type": "execute_result"
    }
   ],
   "source": [
    "sorted(image_count.items(), key=lambda x: x[1], reverse=True)"
   ]
  },
  {
   "cell_type": "markdown",
   "metadata": {},
   "source": [
    "# 이미지 많은 카테고리 train 개수 줄이기"
   ]
  },
  {
   "cell_type": "code",
   "execution_count": 8,
   "metadata": {},
   "outputs": [],
   "source": [
    "big_category = ['병원', '골프장', '헬스장']\n",
    "\n",
    "for category in big_category:\n",
    "    save_dir = work_dir + f'/keep/{category}'\n",
    "    if not os.path.exists(save_dir):\n",
    "        os.mkdir(save_dir)\n",
    "        \n",
    "    image_path = work_dir + f'/train_data/{category}'\n",
    "    image_list = glob.glob(image_path + '/*/*')\n",
    "    random.shuffle(image_list)\n",
    "    image_count[category] = 3000\n",
    "\n",
    "    for image in image_list[3000:]:\n",
    "        filename = image.split('/')[-1]\n",
    "        os.rename(image, os.path.join(save_dir, filename))"
   ]
  },
  {
   "cell_type": "code",
   "execution_count": 9,
   "metadata": {},
   "outputs": [
    {
     "data": {
      "text/plain": [
       "[('공연장', 4665),\n",
       " ('해수욕장', 4267),\n",
       " ('궁궐', 3638),\n",
       " ('수상레포츠', 3582),\n",
       " ('박물관', 3066),\n",
       " ('병원', 3000),\n",
       " ('골프장', 3000),\n",
       " ('헬스장', 3000),\n",
       " ('지하철역', 2495),\n",
       " ('놀이공원', 2476),\n",
       " ('스키장', 2468),\n",
       " ('야구장', 2407),\n",
       " ('다리', 2356),\n",
       " ('베이커리', 2327),\n",
       " ('도서관', 2188),\n",
       " ('키즈카페', 2154),\n",
       " ('한옥마을', 2101),\n",
       " ('축구장', 2088),\n",
       " ('산', 2059),\n",
       " ('63빌딩', 2050),\n",
       " ('농구장', 2044),\n",
       " ('세빛섬', 2019),\n",
       " ('빨래방', 1989),\n",
       " ('PC방', 1938),\n",
       " ('아쿠아리움', 1922),\n",
       " ('볼링장', 1856),\n",
       " ('동물원', 1843),\n",
       " ('시장', 1790),\n",
       " ('대학교', 1767),\n",
       " ('숲', 1719),\n",
       " ('찜질방', 1686),\n",
       " ('식물원', 1654),\n",
       " ('폭포', 1599),\n",
       " ('아이스링크', 1514),\n",
       " ('공항', 1504),\n",
       " ('미술관', 1438),\n",
       " ('동대문디자인플라자', 1423),\n",
       " ('국회의사당', 1422),\n",
       " ('롯데월드타워', 1407),\n",
       " ('공원', 1389),\n",
       " ('미용실', 1385),\n",
       " ('놀이터', 1363),\n",
       " ('청와대', 1324),\n",
       " ('캠핑장', 1294),\n",
       " ('컨벤션센터', 1292),\n",
       " ('패스트푸드점', 1281),\n",
       " ('남산서울타워', 1265),\n",
       " ('호텔', 1260),\n",
       " ('쇼핑몰', 1236),\n",
       " ('절', 1232),\n",
       " ('성당', 1142),\n",
       " ('클럽', 1049),\n",
       " ('수영장', 1015),\n",
       " ('워터파크', 1015),\n",
       " ('교회', 971)]"
      ]
     },
     "execution_count": 9,
     "metadata": {},
     "output_type": "execute_result"
    }
   ],
   "source": [
    "sorted(image_count.items(), key=lambda x: x[1], reverse=True)"
   ]
  }
 ],
 "metadata": {
  "kernelspec": {
   "display_name": "Python 3",
   "language": "python",
   "name": "python3"
  },
  "language_info": {
   "codemirror_mode": {
    "name": "ipython",
    "version": 3
   },
   "file_extension": ".py",
   "mimetype": "text/x-python",
   "name": "python",
   "nbconvert_exporter": "python",
   "pygments_lexer": "ipython3",
   "version": "3.7.6"
  },
  "toc": {
   "base_numbering": 1,
   "nav_menu": {},
   "number_sections": false,
   "sideBar": true,
   "skip_h1_title": false,
   "title_cell": "Contents",
   "title_sidebar": "Contents",
   "toc_cell": true,
   "toc_position": {},
   "toc_section_display": true,
   "toc_window_display": false
  }
 },
 "nbformat": 4,
 "nbformat_minor": 4
}
