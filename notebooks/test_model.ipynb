{
 "cells": [
  {
   "cell_type": "markdown",
   "metadata": {
    "toc": true
   },
   "source": [
    "<h1>Contents<span class=\"tocSkip\"></span></h1>\n",
    "<div class=\"toc\"><ul class=\"toc-item\"><li><span><a href=\"#prepare-data\" data-toc-modified-id=\"prepare-data-1\">prepare data</a></span></li><li><span><a href=\"#EfficientNetB0\" data-toc-modified-id=\"EfficientNetB0-2\">EfficientNetB0</a></span></li><li><span><a href=\"#EfficientNetB7\" data-toc-modified-id=\"EfficientNetB7-3\">EfficientNetB7</a></span></li></ul></div>"
   ]
  },
  {
   "cell_type": "markdown",
   "metadata": {},
   "source": [
    "# prepare data"
   ]
  },
  {
   "cell_type": "code",
   "execution_count": 1,
   "metadata": {},
   "outputs": [],
   "source": [
    "import os\n",
    "import glob\n",
    "import cv2\n",
    "import tensorflow as tf\n",
    "import numpy as np\n",
    "import json\n",
    "from tqdm.notebook import tqdm\n",
    "import collections"
   ]
  },
  {
   "cell_type": "code",
   "execution_count": 2,
   "metadata": {},
   "outputs": [],
   "source": [
    "base_dir = os.getenv(\"HOME\") + \"/UDIGO\"\n",
    "model_dir = base_dir + \"/models\"\n",
    "test_dir = base_dir + \"/dataset/test\"\n",
    "data_dir = base_dir + \"/data\""
   ]
  },
  {
   "cell_type": "code",
   "execution_count": 3,
   "metadata": {},
   "outputs": [
    {
     "data": {
      "text/plain": [
       "['15-0.60-0.83_efficient_b0_by_kec.h5',\n",
       " '17-0.68-0.84_efficient_b0_by_kec.h5',\n",
       " '11-0.54-0.84_efficient_b7_by_kyu.h5',\n",
       " '18-0.62-0.84_efficient_b0_by_kec.h5',\n",
       " '12-0.53-0.84_efficient_b7_by_kyu.h5',\n",
       " '9-0.56-0.83_efficient_b7_by_kyu.h5',\n",
       " '16-0.61-0.84_efficient_b0_by_kec.h5']"
      ]
     },
     "execution_count": 3,
     "metadata": {},
     "output_type": "execute_result"
    }
   ],
   "source": [
    "model_list = os.listdir(model_dir)\n",
    "model_list"
   ]
  },
  {
   "cell_type": "code",
   "execution_count": 4,
   "metadata": {},
   "outputs": [
    {
     "data": {
      "text/plain": [
       "10970"
      ]
     },
     "execution_count": 4,
     "metadata": {},
     "output_type": "execute_result"
    }
   ],
   "source": [
    "image_list = glob.glob(test_dir + \"/*/*\")\n",
    "len(image_list)"
   ]
  },
  {
   "cell_type": "code",
   "execution_count": 5,
   "metadata": {},
   "outputs": [
    {
     "data": {
      "text/plain": [
       "['/home/ssac21/UDIGO/dataset/test/산/349.jpg',\n",
       " '/home/ssac21/UDIGO/dataset/test/산/00002795.jpg',\n",
       " '/home/ssac21/UDIGO/dataset/test/산/178.jpg',\n",
       " '/home/ssac21/UDIGO/dataset/test/산/00003432.jpg',\n",
       " '/home/ssac21/UDIGO/dataset/test/산/67.jpg',\n",
       " '/home/ssac21/UDIGO/dataset/test/산/318.jpg',\n",
       " '/home/ssac21/UDIGO/dataset/test/산/00004403.jpg',\n",
       " '/home/ssac21/UDIGO/dataset/test/산/00002345.jpg',\n",
       " '/home/ssac21/UDIGO/dataset/test/산/108.jpg',\n",
       " '/home/ssac21/UDIGO/dataset/test/산/342.jpg']"
      ]
     },
     "execution_count": 5,
     "metadata": {},
     "output_type": "execute_result"
    }
   ],
   "source": [
    "image_list[:10]"
   ]
  },
  {
   "cell_type": "code",
   "execution_count": 6,
   "metadata": {},
   "outputs": [],
   "source": [
    "with open(os.getenv(\"HOME\") + \"/UDIGO/data/place_55_label_to_id.json\", \"r\") as f:\n",
    "    label_dict = json.load(f)"
   ]
  },
  {
   "cell_type": "markdown",
   "metadata": {},
   "source": [
    "# EfficientNetB0"
   ]
  },
  {
   "cell_type": "code",
   "execution_count": 7,
   "metadata": {},
   "outputs": [],
   "source": [
    "model = tf.keras.models.load_model(os.path.join(model_dir, model_list[-1]))"
   ]
  },
  {
   "cell_type": "code",
   "execution_count": 8,
   "metadata": {},
   "outputs": [
    {
     "name": "stdout",
     "output_type": "stream",
     "text": [
      "Model: \"functional_1\"\n",
      "_________________________________________________________________\n",
      "Layer (type)                 Output Shape              Param #   \n",
      "=================================================================\n",
      "input_2 (InputLayer)         [(None, 224, 224, 3)]     0         \n",
      "_________________________________________________________________\n",
      "efficientnetb0 (Functional)  (None, 1280)              4049571   \n",
      "_________________________________________________________________\n",
      "dense (Dense)                (None, 55)                70455     \n",
      "=================================================================\n",
      "Total params: 4,120,026\n",
      "Trainable params: 4,078,003\n",
      "Non-trainable params: 42,023\n",
      "_________________________________________________________________\n"
     ]
    }
   ],
   "source": [
    "model.summary()"
   ]
  },
  {
   "cell_type": "code",
   "execution_count": 9,
   "metadata": {},
   "outputs": [],
   "source": [
    "def inference(img_path):\n",
    "    image = cv2.imread(img_path, cv2.IMREAD_COLOR)\n",
    "    image = cv2.cvtColor(image, cv2.COLOR_BGR2RGB)\n",
    "    image = cv2.resize(image, (224, 224))\n",
    "    image = image[np.newaxis, :, :, :]\n",
    "    pred = model.predict(image, batch_size=1)\n",
    "    return np.argmax(pred)"
   ]
  },
  {
   "cell_type": "code",
   "execution_count": 14,
   "metadata": {},
   "outputs": [],
   "source": [
    "def test_model(image_list):\n",
    "    label_list = []\n",
    "    correct_dict = {}\n",
    "    correct = 0\n",
    "    n = 0\n",
    "\n",
    "    for image in tqdm(image_list):\n",
    "        try:\n",
    "            pred = inference(image)\n",
    "            n += 1\n",
    "\n",
    "            label = image.split(\"/\")[-2]\n",
    "            label_list.append(label)\n",
    "            if label not in correct_dict:\n",
    "                correct_dict[label] = 0\n",
    "\n",
    "            label_encoding = label_dict[label]\n",
    "            if pred == label_encoding:\n",
    "                correct_dict[label] += 1\n",
    "                correct += 1\n",
    "\n",
    "        except:\n",
    "            print(\"Invalid image:\", image)\n",
    "            continue\n",
    "\n",
    "    print(f\"{n} data, test complete!\")\n",
    "    return label_list, correct_dict, correct, n"
   ]
  },
  {
   "cell_type": "code",
   "execution_count": 15,
   "metadata": {},
   "outputs": [
    {
     "data": {
      "application/vnd.jupyter.widget-view+json": {
       "model_id": "ec2018369fa342749243d775575b1d5e",
       "version_major": 2,
       "version_minor": 0
      },
      "text/plain": [
       "HBox(children=(FloatProgress(value=0.0, max=10970.0), HTML(value='')))"
      ]
     },
     "metadata": {},
     "output_type": "display_data"
    },
    {
     "name": "stdout",
     "output_type": "stream",
     "text": [
      "Invalid image: /home/ssac21/UDIGO/dataset/test/수영장/img03_01_02_04.gif\n",
      "Invalid image: /home/ssac21/UDIGO/dataset/test/수상레포츠/one-footed_skiing064.gif?type=w580\n",
      "Invalid image: /home/ssac21/UDIGO/dataset/test/수상레포츠/surf_board01.gif?type=w2\n",
      "Invalid image: /home/ssac21/UDIGO/dataset/test/폭포/bf2698b4fe5dfcb1ac9187aa34c06699.gif\n",
      "Invalid image: /home/ssac21/UDIGO/dataset/test/폭포/bf42ca3213a39ecdf97ed5141b23bc71.gif\n",
      "Invalid image: /home/ssac21/UDIGO/dataset/test/워터파크/waterpark_580\n",
      "Invalid image: /home/ssac21/UDIGO/dataset/test/워터파크/waterpark_001.gif?type=w1\n",
      "Invalid image: /home/ssac21/UDIGO/dataset/test/볼링장/095162b2-e684-4a65-a8de-48a93307a596.gif\n",
      "Invalid image: /home/ssac21/UDIGO/dataset/test/볼링장/a4b6d053-877c-48db-a5a1-dc808ea6db46.gif\n",
      "\n",
      "10961 data, test complete!\n",
      "CPU times: user 8min 9s, sys: 37.5 s, total: 8min 46s\n",
      "Wall time: 6min 47s\n"
     ]
    }
   ],
   "source": [
    "%%time\n",
    "label_list, correct_dict, correct, n = test_model(image_list)"
   ]
  },
  {
   "cell_type": "code",
   "execution_count": 16,
   "metadata": {},
   "outputs": [
    {
     "data": {
      "text/plain": [
       "Counter({'산': 200,\n",
       "         '청와대': 200,\n",
       "         '농구장': 200,\n",
       "         '시장': 200,\n",
       "         '수영장': 199,\n",
       "         '미용실': 200,\n",
       "         '수상레포츠': 198,\n",
       "         '놀이공원': 200,\n",
       "         '야구장': 198,\n",
       "         '미술관': 199,\n",
       "         '클럽': 200,\n",
       "         '호텔': 200,\n",
       "         '식물원': 199,\n",
       "         '키즈카페': 200,\n",
       "         '빨래방': 200,\n",
       "         '대학교': 200,\n",
       "         '병원': 200,\n",
       "         '박물관': 196,\n",
       "         '한옥마을': 200,\n",
       "         '골프장': 200,\n",
       "         '동물원': 200,\n",
       "         '숲': 194,\n",
       "         '아이스링크': 197,\n",
       "         '동대문디자인플라자': 200,\n",
       "         '지하철역': 200,\n",
       "         '세빛섬': 200,\n",
       "         '폭포': 198,\n",
       "         '놀이터': 200,\n",
       "         '아쿠아리움': 200,\n",
       "         '절': 200,\n",
       "         '다리': 200,\n",
       "         'PC방': 200,\n",
       "         '쇼핑몰': 200,\n",
       "         '63빌딩': 200,\n",
       "         '컨벤션센터': 200,\n",
       "         '국회의사당': 200,\n",
       "         '공원': 197,\n",
       "         '롯데월드타워': 200,\n",
       "         '헬스장': 200,\n",
       "         '공항': 195,\n",
       "         '교회': 200,\n",
       "         '궁궐': 200,\n",
       "         '도서관': 200,\n",
       "         '워터파크': 198,\n",
       "         '축구장': 200,\n",
       "         '성당': 200,\n",
       "         '캠핑장': 200,\n",
       "         '볼링장': 198,\n",
       "         '패스트푸드점': 200,\n",
       "         '베이커리': 200,\n",
       "         '공연장': 195,\n",
       "         '해수욕장': 200,\n",
       "         '스키장': 200,\n",
       "         '찜질방': 200,\n",
       "         '남산서울타워': 200})"
      ]
     },
     "execution_count": 16,
     "metadata": {},
     "output_type": "execute_result"
    }
   ],
   "source": [
    "count = collections.Counter(label_list)\n",
    "count"
   ]
  },
  {
   "cell_type": "code",
   "execution_count": 17,
   "metadata": {},
   "outputs": [
    {
     "data": {
      "text/plain": [
       "{'산': 189,\n",
       " '청와대': 196,\n",
       " '농구장': 194,\n",
       " '시장': 187,\n",
       " '수영장': 174,\n",
       " '미용실': 178,\n",
       " '수상레포츠': 177,\n",
       " '놀이공원': 104,\n",
       " '야구장': 188,\n",
       " '미술관': 129,\n",
       " '클럽': 88,\n",
       " '호텔': 188,\n",
       " '식물원': 180,\n",
       " '키즈카페': 155,\n",
       " '빨래방': 184,\n",
       " '대학교': 152,\n",
       " '병원': 124,\n",
       " '박물관': 142,\n",
       " '한옥마을': 125,\n",
       " '골프장': 174,\n",
       " '동물원': 183,\n",
       " '숲': 190,\n",
       " '아이스링크': 162,\n",
       " '동대문디자인플라자': 187,\n",
       " '지하철역': 182,\n",
       " '세빛섬': 0,\n",
       " '폭포': 196,\n",
       " '놀이터': 154,\n",
       " '아쿠아리움': 185,\n",
       " '절': 84,\n",
       " '다리': 115,\n",
       " 'PC방': 196,\n",
       " '쇼핑몰': 164,\n",
       " '63빌딩': 193,\n",
       " '컨벤션센터': 182,\n",
       " '국회의사당': 193,\n",
       " '공원': 141,\n",
       " '롯데월드타워': 156,\n",
       " '헬스장': 173,\n",
       " '공항': 136,\n",
       " '교회': 175,\n",
       " '궁궐': 189,\n",
       " '도서관': 184,\n",
       " '워터파크': 90,\n",
       " '축구장': 185,\n",
       " '성당': 149,\n",
       " '캠핑장': 174,\n",
       " '볼링장': 181,\n",
       " '패스트푸드점': 161,\n",
       " '베이커리': 180,\n",
       " '공연장': 181,\n",
       " '해수욕장': 183,\n",
       " '스키장': 188,\n",
       " '찜질방': 176,\n",
       " '남산서울타워': 186}"
      ]
     },
     "execution_count": 17,
     "metadata": {},
     "output_type": "execute_result"
    }
   ],
   "source": [
    "correct_dict"
   ]
  },
  {
   "cell_type": "code",
   "execution_count": 18,
   "metadata": {},
   "outputs": [
    {
     "data": {
      "text/plain": [
       "{'산': 0.945,\n",
       " '청와대': 0.98,\n",
       " '농구장': 0.97,\n",
       " '시장': 0.935,\n",
       " '수영장': 0.8744,\n",
       " '미용실': 0.89,\n",
       " '수상레포츠': 0.8939,\n",
       " '놀이공원': 0.52,\n",
       " '야구장': 0.9495,\n",
       " '미술관': 0.6482,\n",
       " '클럽': 0.44,\n",
       " '호텔': 0.94,\n",
       " '식물원': 0.9045,\n",
       " '키즈카페': 0.775,\n",
       " '빨래방': 0.92,\n",
       " '대학교': 0.76,\n",
       " '병원': 0.62,\n",
       " '박물관': 0.7245,\n",
       " '한옥마을': 0.625,\n",
       " '골프장': 0.87,\n",
       " '동물원': 0.915,\n",
       " '숲': 0.9794,\n",
       " '아이스링크': 0.8223,\n",
       " '동대문디자인플라자': 0.935,\n",
       " '지하철역': 0.91,\n",
       " '세빛섬': 0.0,\n",
       " '폭포': 0.9899,\n",
       " '놀이터': 0.77,\n",
       " '아쿠아리움': 0.925,\n",
       " '절': 0.42,\n",
       " '다리': 0.575,\n",
       " 'PC방': 0.98,\n",
       " '쇼핑몰': 0.82,\n",
       " '63빌딩': 0.965,\n",
       " '컨벤션센터': 0.91,\n",
       " '국회의사당': 0.965,\n",
       " '공원': 0.7157,\n",
       " '롯데월드타워': 0.78,\n",
       " '헬스장': 0.865,\n",
       " '공항': 0.6974,\n",
       " '교회': 0.875,\n",
       " '궁궐': 0.945,\n",
       " '도서관': 0.92,\n",
       " '워터파크': 0.4545,\n",
       " '축구장': 0.925,\n",
       " '성당': 0.745,\n",
       " '캠핑장': 0.87,\n",
       " '볼링장': 0.9141,\n",
       " '패스트푸드점': 0.805,\n",
       " '베이커리': 0.9,\n",
       " '공연장': 0.9282,\n",
       " '해수욕장': 0.915,\n",
       " '스키장': 0.94,\n",
       " '찜질방': 0.88,\n",
       " '남산서울타워': 0.93}"
      ]
     },
     "execution_count": 18,
     "metadata": {},
     "output_type": "execute_result"
    }
   ],
   "source": [
    "accuracy_dict = {}\n",
    "for label in correct_dict:\n",
    "    accuracy_dict[label] = round(correct_dict[label]/count[label], 4)\n",
    "\n",
    "accuracy_dict"
   ]
  },
  {
   "cell_type": "code",
   "execution_count": 19,
   "metadata": {},
   "outputs": [
    {
     "name": "stdout",
     "output_type": "stream",
     "text": [
      "Test Accuracy: 0.8195\n"
     ]
    }
   ],
   "source": [
    "accuracy = round(correct/n, 4)\n",
    "print(\"Test Accuracy:\", accuracy)"
   ]
  },
  {
   "cell_type": "markdown",
   "metadata": {},
   "source": [
    "# EfficientNetB7"
   ]
  },
  {
   "cell_type": "code",
   "execution_count": 20,
   "metadata": {},
   "outputs": [],
   "source": [
    "model = tf.keras.models.load_model(os.path.join(model_dir, model_list[-3]))"
   ]
  },
  {
   "cell_type": "code",
   "execution_count": 21,
   "metadata": {},
   "outputs": [
    {
     "name": "stdout",
     "output_type": "stream",
     "text": [
      "Model: \"model_1\"\n",
      "_________________________________________________________________\n",
      "Layer (type)                 Output Shape              Param #   \n",
      "=================================================================\n",
      "input_4 (InputLayer)         [(None, 224, 224, 3)]     0         \n",
      "_________________________________________________________________\n",
      "efficientnetb7 (Functional)  (None, 2560)              64097687  \n",
      "_________________________________________________________________\n",
      "dense_1 (Dense)              (None, 55)                140855    \n",
      "=================================================================\n",
      "Total params: 64,238,542\n",
      "Trainable params: 63,927,815\n",
      "Non-trainable params: 310,727\n",
      "_________________________________________________________________\n"
     ]
    }
   ],
   "source": [
    "model.summary()"
   ]
  },
  {
   "cell_type": "code",
   "execution_count": 22,
   "metadata": {},
   "outputs": [
    {
     "data": {
      "application/vnd.jupyter.widget-view+json": {
       "model_id": "53caa26282d04b62becabd197bd9ef6e",
       "version_major": 2,
       "version_minor": 0
      },
      "text/plain": [
       "HBox(children=(FloatProgress(value=0.0, max=10970.0), HTML(value='')))"
      ]
     },
     "metadata": {},
     "output_type": "display_data"
    },
    {
     "name": "stdout",
     "output_type": "stream",
     "text": [
      "Invalid image: /home/ssac21/UDIGO/dataset/test/수영장/img03_01_02_04.gif\n",
      "Invalid image: /home/ssac21/UDIGO/dataset/test/수상레포츠/one-footed_skiing064.gif?type=w580\n",
      "Invalid image: /home/ssac21/UDIGO/dataset/test/수상레포츠/surf_board01.gif?type=w2\n",
      "Invalid image: /home/ssac21/UDIGO/dataset/test/폭포/bf2698b4fe5dfcb1ac9187aa34c06699.gif\n",
      "Invalid image: /home/ssac21/UDIGO/dataset/test/폭포/bf42ca3213a39ecdf97ed5141b23bc71.gif\n",
      "Invalid image: /home/ssac21/UDIGO/dataset/test/워터파크/waterpark_580\n",
      "Invalid image: /home/ssac21/UDIGO/dataset/test/워터파크/waterpark_001.gif?type=w1\n",
      "Invalid image: /home/ssac21/UDIGO/dataset/test/볼링장/095162b2-e684-4a65-a8de-48a93307a596.gif\n",
      "Invalid image: /home/ssac21/UDIGO/dataset/test/볼링장/a4b6d053-877c-48db-a5a1-dc808ea6db46.gif\n",
      "\n",
      "10961 data, test complete!\n",
      "CPU times: user 12min 12s, sys: 38.8 s, total: 12min 51s\n",
      "Wall time: 11min 7s\n"
     ]
    }
   ],
   "source": [
    "%%time\n",
    "label_list, correct_dict, correct, n = test_model(image_list)"
   ]
  },
  {
   "cell_type": "code",
   "execution_count": 23,
   "metadata": {},
   "outputs": [
    {
     "data": {
      "text/plain": [
       "{'산': 181,\n",
       " '청와대': 197,\n",
       " '농구장': 197,\n",
       " '시장': 190,\n",
       " '수영장': 178,\n",
       " '미용실': 161,\n",
       " '수상레포츠': 186,\n",
       " '놀이공원': 131,\n",
       " '야구장': 179,\n",
       " '미술관': 126,\n",
       " '클럽': 117,\n",
       " '호텔': 192,\n",
       " '식물원': 182,\n",
       " '키즈카페': 161,\n",
       " '빨래방': 182,\n",
       " '대학교': 162,\n",
       " '병원': 127,\n",
       " '박물관': 147,\n",
       " '한옥마을': 132,\n",
       " '골프장': 172,\n",
       " '동물원': 181,\n",
       " '숲': 177,\n",
       " '아이스링크': 174,\n",
       " '동대문디자인플라자': 192,\n",
       " '지하철역': 186,\n",
       " '세빛섬': 0,\n",
       " '폭포': 195,\n",
       " '놀이터': 147,\n",
       " '아쿠아리움': 187,\n",
       " '절': 125,\n",
       " '다리': 141,\n",
       " 'PC방': 194,\n",
       " '쇼핑몰': 163,\n",
       " '63빌딩': 184,\n",
       " '컨벤션센터': 179,\n",
       " '국회의사당': 195,\n",
       " '공원': 152,\n",
       " '롯데월드타워': 162,\n",
       " '헬스장': 178,\n",
       " '공항': 160,\n",
       " '교회': 190,\n",
       " '궁궐': 183,\n",
       " '도서관': 184,\n",
       " '워터파크': 104,\n",
       " '축구장': 190,\n",
       " '성당': 165,\n",
       " '캠핑장': 177,\n",
       " '볼링장': 185,\n",
       " '패스트푸드점': 180,\n",
       " '베이커리': 190,\n",
       " '공연장': 182,\n",
       " '해수욕장': 180,\n",
       " '스키장': 193,\n",
       " '찜질방': 184,\n",
       " '남산서울타워': 190}"
      ]
     },
     "execution_count": 23,
     "metadata": {},
     "output_type": "execute_result"
    }
   ],
   "source": [
    "correct_dict"
   ]
  },
  {
   "cell_type": "code",
   "execution_count": 24,
   "metadata": {},
   "outputs": [
    {
     "data": {
      "text/plain": [
       "{'산': 0.905,\n",
       " '청와대': 0.985,\n",
       " '농구장': 0.985,\n",
       " '시장': 0.95,\n",
       " '수영장': 0.8945,\n",
       " '미용실': 0.805,\n",
       " '수상레포츠': 0.9394,\n",
       " '놀이공원': 0.655,\n",
       " '야구장': 0.904,\n",
       " '미술관': 0.6332,\n",
       " '클럽': 0.585,\n",
       " '호텔': 0.96,\n",
       " '식물원': 0.9146,\n",
       " '키즈카페': 0.805,\n",
       " '빨래방': 0.91,\n",
       " '대학교': 0.81,\n",
       " '병원': 0.635,\n",
       " '박물관': 0.75,\n",
       " '한옥마을': 0.66,\n",
       " '골프장': 0.86,\n",
       " '동물원': 0.905,\n",
       " '숲': 0.9124,\n",
       " '아이스링크': 0.8832,\n",
       " '동대문디자인플라자': 0.96,\n",
       " '지하철역': 0.93,\n",
       " '세빛섬': 0.0,\n",
       " '폭포': 0.9848,\n",
       " '놀이터': 0.735,\n",
       " '아쿠아리움': 0.935,\n",
       " '절': 0.625,\n",
       " '다리': 0.705,\n",
       " 'PC방': 0.97,\n",
       " '쇼핑몰': 0.815,\n",
       " '63빌딩': 0.92,\n",
       " '컨벤션센터': 0.895,\n",
       " '국회의사당': 0.975,\n",
       " '공원': 0.7716,\n",
       " '롯데월드타워': 0.81,\n",
       " '헬스장': 0.89,\n",
       " '공항': 0.8205,\n",
       " '교회': 0.95,\n",
       " '궁궐': 0.915,\n",
       " '도서관': 0.92,\n",
       " '워터파크': 0.5253,\n",
       " '축구장': 0.95,\n",
       " '성당': 0.825,\n",
       " '캠핑장': 0.885,\n",
       " '볼링장': 0.9343,\n",
       " '패스트푸드점': 0.9,\n",
       " '베이커리': 0.95,\n",
       " '공연장': 0.9333,\n",
       " '해수욕장': 0.9,\n",
       " '스키장': 0.965,\n",
       " '찜질방': 0.92,\n",
       " '남산서울타워': 0.95}"
      ]
     },
     "execution_count": 24,
     "metadata": {},
     "output_type": "execute_result"
    }
   ],
   "source": [
    "accuracy_dict = {}\n",
    "for label in correct_dict:\n",
    "    accuracy_dict[label] = round(correct_dict[label]/count[label], 4)\n",
    "\n",
    "accuracy_dict"
   ]
  },
  {
   "cell_type": "code",
   "execution_count": 25,
   "metadata": {},
   "outputs": [
    {
     "name": "stdout",
     "output_type": "stream",
     "text": [
      "Test Accuracy: 0.8438\n"
     ]
    }
   ],
   "source": [
    "accuracy = round(correct/n, 4)\n",
    "print(\"Test Accuracy:\", accuracy)"
   ]
  }
 ],
 "metadata": {
  "kernelspec": {
   "display_name": "Python 3",
   "language": "python",
   "name": "python3"
  },
  "language_info": {
   "codemirror_mode": {
    "name": "ipython",
    "version": 3
   },
   "file_extension": ".py",
   "mimetype": "text/x-python",
   "name": "python",
   "nbconvert_exporter": "python",
   "pygments_lexer": "ipython3",
   "version": "3.7.6"
  },
  "toc": {
   "base_numbering": 1,
   "nav_menu": {},
   "number_sections": false,
   "sideBar": true,
   "skip_h1_title": false,
   "title_cell": "Contents",
   "title_sidebar": "Contents",
   "toc_cell": true,
   "toc_position": {},
   "toc_section_display": true,
   "toc_window_display": false
  }
 },
 "nbformat": 4,
 "nbformat_minor": 4
}
