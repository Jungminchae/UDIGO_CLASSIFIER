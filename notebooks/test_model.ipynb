{
 "cells": [
  {
   "cell_type": "markdown",
   "metadata": {
    "toc": true
   },
   "source": [
    "<h1>Contents<span class=\"tocSkip\"></span></h1>\n",
    "<div class=\"toc\"><ul class=\"toc-item\"><li><span><a href=\"#Preparation\" data-toc-modified-id=\"Preparation-1\">Preparation</a></span></li><li><span><a href=\"#EfficientNetB0\" data-toc-modified-id=\"EfficientNetB0-2\">EfficientNetB0</a></span><ul class=\"toc-item\"><li><span><a href=\"#224-with-augmentation\" data-toc-modified-id=\"224-with-augmentation-2.1\">224 with augmentation</a></span></li><li><span><a href=\"#224-without-augmentation\" data-toc-modified-id=\"224-without-augmentation-2.2\">224 without augmentation</a></span></li></ul></li><li><span><a href=\"#EfficientNetB1\" data-toc-modified-id=\"EfficientNetB1-3\">EfficientNetB1</a></span><ul class=\"toc-item\"><li><span><a href=\"#224-with-augmentation\" data-toc-modified-id=\"224-with-augmentation-3.1\">224 with augmentation</a></span></li><li><span><a href=\"#224-without-augmentation\" data-toc-modified-id=\"224-without-augmentation-3.2\">224 without augmentation</a></span></li><li><span><a href=\"#240-with-augmentation\" data-toc-modified-id=\"240-with-augmentation-3.3\">240 with augmentation</a></span></li></ul></li><li><span><a href=\"#EfficientNetB2\" data-toc-modified-id=\"EfficientNetB2-4\">EfficientNetB2</a></span><ul class=\"toc-item\"><li><span><a href=\"#224-with-augmentation\" data-toc-modified-id=\"224-with-augmentation-4.1\">224 with augmentation</a></span></li><li><span><a href=\"#224-without-augmentation\" data-toc-modified-id=\"224-without-augmentation-4.2\">224 without augmentation</a></span></li><li><span><a href=\"#260-with-augmentation\" data-toc-modified-id=\"260-with-augmentation-4.3\">260 with augmentation</a></span></li><li><span><a href=\"#260-without-aucmentation\" data-toc-modified-id=\"260-without-aucmentation-4.4\">260 without aucmentation</a></span></li></ul></li><li><span><a href=\"#Model-Ensemble\" data-toc-modified-id=\"Model-Ensemble-5\">Model Ensemble</a></span><ul class=\"toc-item\"><li><span><a href=\"#3-models\" data-toc-modified-id=\"3-models-5.1\">3 models</a></span></li><li><span><a href=\"#4-models\" data-toc-modified-id=\"4-models-5.2\">4 models</a></span></li></ul></li></ul></div>"
   ]
  },
  {
   "cell_type": "markdown",
   "metadata": {},
   "source": [
    "# Preparation"
   ]
  },
  {
   "cell_type": "code",
   "execution_count": 1,
   "metadata": {},
   "outputs": [],
   "source": [
    "import os\n",
    "import glob\n",
    "import cv2\n",
    "import tensorflow as tf\n",
    "import numpy as np\n",
    "import json\n",
    "from tqdm.notebook import tqdm\n",
    "import collections"
   ]
  },
  {
   "cell_type": "code",
   "execution_count": 2,
   "metadata": {},
   "outputs": [],
   "source": [
    "base_dir = os.getenv(\"HOME\") + \"/UDIGO\"\n",
    "model_dir = base_dir + \"/models\"\n",
    "test_dir = base_dir + \"/dataset/test\"\n",
    "data_dir = base_dir + \"/data\""
   ]
  },
  {
   "cell_type": "code",
   "execution_count": 3,
   "metadata": {},
   "outputs": [
    {
     "data": {
      "text/plain": [
       "['efn_b2_260_9-0.40-0.91.h5',\n",
       " 'efn_b1_240_6-0.41-0.90.h5',\n",
       " 'efn_b0_224_na_5-0.43-0.90.h5',\n",
       " 'efn_b1_224_na_5-0.43-0.90.h5',\n",
       " 'efn_b2_224_5-0.42-0.89.h5',\n",
       " 'efn_b1_224_11-0.46-0.90.h5',\n",
       " 'efn_b0_224_9-0.45-0.90.h5',\n",
       " 'efn_b2_260_na_5-0.41-0.91.h5',\n",
       " 'efn_b2_224_na_3-0.45-0.88.h5']"
      ]
     },
     "execution_count": 3,
     "metadata": {},
     "output_type": "execute_result"
    }
   ],
   "source": [
    "os.listdir(model_dir)"
   ]
  },
  {
   "cell_type": "code",
   "execution_count": 4,
   "metadata": {},
   "outputs": [
    {
     "data": {
      "text/plain": [
       "10970"
      ]
     },
     "execution_count": 4,
     "metadata": {},
     "output_type": "execute_result"
    }
   ],
   "source": [
    "image_list = glob.glob(test_dir + \"/*/*\")\n",
    "len(image_list)"
   ]
  },
  {
   "cell_type": "code",
   "execution_count": 5,
   "metadata": {},
   "outputs": [
    {
     "data": {
      "text/plain": [
       "['/home/ssac21/UDIGO/dataset/test/산/349.jpg',\n",
       " '/home/ssac21/UDIGO/dataset/test/산/00002795.jpg',\n",
       " '/home/ssac21/UDIGO/dataset/test/산/178.jpg',\n",
       " '/home/ssac21/UDIGO/dataset/test/산/00003432.jpg',\n",
       " '/home/ssac21/UDIGO/dataset/test/산/67.jpg',\n",
       " '/home/ssac21/UDIGO/dataset/test/산/318.jpg',\n",
       " '/home/ssac21/UDIGO/dataset/test/산/00004403.jpg',\n",
       " '/home/ssac21/UDIGO/dataset/test/산/00002345.jpg',\n",
       " '/home/ssac21/UDIGO/dataset/test/산/108.jpg',\n",
       " '/home/ssac21/UDIGO/dataset/test/산/342.jpg']"
      ]
     },
     "execution_count": 5,
     "metadata": {},
     "output_type": "execute_result"
    }
   ],
   "source": [
    "image_list[:10]"
   ]
  },
  {
   "cell_type": "code",
   "execution_count": 6,
   "metadata": {},
   "outputs": [],
   "source": [
    "with open(os.getenv(\"HOME\") + \"/UDIGO/data/place_55_label_to_id.json\", \"r\") as f:\n",
    "    label_dict = json.load(f)"
   ]
  },
  {
   "cell_type": "code",
   "execution_count": 7,
   "metadata": {},
   "outputs": [],
   "source": [
    "def inference(img_path, img_size):\n",
    "    image = cv2.imread(img_path, cv2.IMREAD_COLOR)\n",
    "    image = cv2.cvtColor(image, cv2.COLOR_BGR2RGB)\n",
    "    image = cv2.resize(image, (img_size, img_size))\n",
    "    image = image[np.newaxis, :, :, :]\n",
    "    pred = model.predict(image, batch_size=1)\n",
    "    return np.argmax(pred)"
   ]
  },
  {
   "cell_type": "code",
   "execution_count": 8,
   "metadata": {},
   "outputs": [],
   "source": [
    "def test_model(image_list, img_size):\n",
    "    label_list = []\n",
    "    correct_dict = {}\n",
    "    correct = 0\n",
    "    n = 0\n",
    "\n",
    "    for image in tqdm(image_list):\n",
    "        try:\n",
    "            pred = inference(image, img_size)\n",
    "            n += 1\n",
    "\n",
    "            label = image.split(\"/\")[-2]\n",
    "            label_list.append(label)\n",
    "            if label not in correct_dict:\n",
    "                correct_dict[label] = 0\n",
    "\n",
    "            label_encoding = label_dict[label]\n",
    "            if pred == label_encoding:\n",
    "                correct_dict[label] += 1\n",
    "                correct += 1\n",
    "\n",
    "        except:\n",
    "            print(\"Invalid image:\", image)\n",
    "            continue\n",
    "\n",
    "    print(f\"{n} data, test complete!\")\n",
    "    print(\"Test Accuracy:\", round(correct / n, 3))\n",
    "    return label_list, correct_dict"
   ]
  },
  {
   "cell_type": "markdown",
   "metadata": {},
   "source": [
    "# EfficientNetB0"
   ]
  },
  {
   "cell_type": "markdown",
   "metadata": {},
   "source": [
    "## 224 with augmentation"
   ]
  },
  {
   "cell_type": "code",
   "execution_count": 7,
   "metadata": {},
   "outputs": [],
   "source": [
    "model = tf.keras.models.load_model(os.path.join(model_dir, 'efn_b0_224_9-0.45-0.90.h5'))"
   ]
  },
  {
   "cell_type": "code",
   "execution_count": 8,
   "metadata": {},
   "outputs": [
    {
     "name": "stdout",
     "output_type": "stream",
     "text": [
      "Model: \"model\"\n",
      "_________________________________________________________________\n",
      "Layer (type)                 Output Shape              Param #   \n",
      "=================================================================\n",
      "input_2 (InputLayer)         [(None, 224, 224, 3)]     0         \n",
      "_________________________________________________________________\n",
      "sequential (Sequential)      (None, 224, 224, 3)       0         \n",
      "_________________________________________________________________\n",
      "efficientnetb0 (Functional)  (None, 1280)              4049571   \n",
      "_________________________________________________________________\n",
      "dense (Dense)                (None, 55)                70455     \n",
      "=================================================================\n",
      "Total params: 4,120,026\n",
      "Trainable params: 4,078,003\n",
      "Non-trainable params: 42,023\n",
      "_________________________________________________________________\n"
     ]
    }
   ],
   "source": [
    "model.summary()"
   ]
  },
  {
   "cell_type": "code",
   "execution_count": 12,
   "metadata": {},
   "outputs": [
    {
     "data": {
      "application/vnd.jupyter.widget-view+json": {
       "model_id": "ebc5c135b2a04bc4b6c110f7bff03a93",
       "version_major": 2,
       "version_minor": 0
      },
      "text/plain": [
       "  0%|          | 0/10970 [00:00<?, ?it/s]"
      ]
     },
     "metadata": {},
     "output_type": "display_data"
    },
    {
     "name": "stdout",
     "output_type": "stream",
     "text": [
      "Invalid image: /home/ssac21/UDIGO/dataset/test/수영장/img03_01_02_04.gif\n",
      "Invalid image: /home/ssac21/UDIGO/dataset/test/수상레포츠/one-footed_skiing064.gif?type=w580\n",
      "Invalid image: /home/ssac21/UDIGO/dataset/test/수상레포츠/surf_board01.gif?type=w2\n",
      "Invalid image: /home/ssac21/UDIGO/dataset/test/폭포/bf2698b4fe5dfcb1ac9187aa34c06699.gif\n",
      "Invalid image: /home/ssac21/UDIGO/dataset/test/폭포/bf42ca3213a39ecdf97ed5141b23bc71.gif\n",
      "Invalid image: /home/ssac21/UDIGO/dataset/test/워터파크/waterpark_580\n",
      "Invalid image: /home/ssac21/UDIGO/dataset/test/워터파크/waterpark_001.gif?type=w1\n",
      "Invalid image: /home/ssac21/UDIGO/dataset/test/볼링장/095162b2-e684-4a65-a8de-48a93307a596.gif\n",
      "Invalid image: /home/ssac21/UDIGO/dataset/test/볼링장/a4b6d053-877c-48db-a5a1-dc808ea6db46.gif\n",
      "10961 data, test complete!\n",
      "Test Accuracy: 0.895\n"
     ]
    }
   ],
   "source": [
    "label_list, correct_dict = test_model(image_list, img_size=224)"
   ]
  },
  {
   "cell_type": "code",
   "execution_count": 13,
   "metadata": {},
   "outputs": [
    {
     "data": {
      "text/plain": [
       "Counter({'산': 200,\n",
       "         '청와대': 200,\n",
       "         '농구장': 200,\n",
       "         '시장': 200,\n",
       "         '수영장': 199,\n",
       "         '미용실': 200,\n",
       "         '수상레포츠': 198,\n",
       "         '놀이공원': 200,\n",
       "         '야구장': 198,\n",
       "         '미술관': 199,\n",
       "         '클럽': 200,\n",
       "         '호텔': 200,\n",
       "         '식물원': 199,\n",
       "         '키즈카페': 200,\n",
       "         '빨래방': 200,\n",
       "         '대학교': 200,\n",
       "         '병원': 200,\n",
       "         '박물관': 196,\n",
       "         '한옥마을': 200,\n",
       "         '골프장': 200,\n",
       "         '동물원': 200,\n",
       "         '숲': 194,\n",
       "         '아이스링크': 197,\n",
       "         '동대문디자인플라자': 200,\n",
       "         '지하철역': 200,\n",
       "         '세빛섬': 200,\n",
       "         '폭포': 198,\n",
       "         '놀이터': 200,\n",
       "         '아쿠아리움': 200,\n",
       "         '절': 200,\n",
       "         '다리': 200,\n",
       "         'PC방': 200,\n",
       "         '쇼핑몰': 200,\n",
       "         '63빌딩': 200,\n",
       "         '컨벤션센터': 200,\n",
       "         '국회의사당': 200,\n",
       "         '공원': 197,\n",
       "         '롯데월드타워': 200,\n",
       "         '헬스장': 200,\n",
       "         '공항': 195,\n",
       "         '교회': 200,\n",
       "         '궁궐': 200,\n",
       "         '도서관': 200,\n",
       "         '워터파크': 198,\n",
       "         '축구장': 200,\n",
       "         '성당': 200,\n",
       "         '캠핑장': 200,\n",
       "         '볼링장': 198,\n",
       "         '패스트푸드점': 200,\n",
       "         '베이커리': 200,\n",
       "         '공연장': 195,\n",
       "         '해수욕장': 200,\n",
       "         '스키장': 200,\n",
       "         '찜질방': 200,\n",
       "         '남산서울타워': 200})"
      ]
     },
     "execution_count": 13,
     "metadata": {},
     "output_type": "execute_result"
    }
   ],
   "source": [
    "count = collections.Counter(label_list)\n",
    "count"
   ]
  },
  {
   "cell_type": "code",
   "execution_count": 14,
   "metadata": {},
   "outputs": [
    {
     "data": {
      "text/plain": [
       "{'산': 190,\n",
       " '청와대': 198,\n",
       " '농구장': 197,\n",
       " '시장': 185,\n",
       " '수영장': 183,\n",
       " '미용실': 166,\n",
       " '수상레포츠': 188,\n",
       " '놀이공원': 134,\n",
       " '야구장': 190,\n",
       " '미술관': 142,\n",
       " '클럽': 123,\n",
       " '호텔': 190,\n",
       " '식물원': 189,\n",
       " '키즈카페': 171,\n",
       " '빨래방': 188,\n",
       " '대학교': 161,\n",
       " '병원': 155,\n",
       " '박물관': 147,\n",
       " '한옥마을': 153,\n",
       " '골프장': 168,\n",
       " '동물원': 189,\n",
       " '숲': 183,\n",
       " '아이스링크': 181,\n",
       " '동대문디자인플라자': 196,\n",
       " '지하철역': 188,\n",
       " '세빛섬': 196,\n",
       " '폭포': 195,\n",
       " '놀이터': 171,\n",
       " '아쿠아리움': 186,\n",
       " '절': 140,\n",
       " '다리': 155,\n",
       " 'PC방': 196,\n",
       " '쇼핑몰': 182,\n",
       " '63빌딩': 192,\n",
       " '컨벤션센터': 183,\n",
       " '국회의사당': 196,\n",
       " '공원': 163,\n",
       " '롯데월드타워': 172,\n",
       " '헬스장': 180,\n",
       " '공항': 172,\n",
       " '교회': 189,\n",
       " '궁궐': 190,\n",
       " '도서관': 191,\n",
       " '워터파크': 135,\n",
       " '축구장': 191,\n",
       " '성당': 176,\n",
       " '캠핑장': 186,\n",
       " '볼링장': 192,\n",
       " '패스트푸드점': 186,\n",
       " '베이커리': 189,\n",
       " '공연장': 183,\n",
       " '해수욕장': 189,\n",
       " '스키장': 196,\n",
       " '찜질방': 188,\n",
       " '남산서울타워': 195}"
      ]
     },
     "execution_count": 14,
     "metadata": {},
     "output_type": "execute_result"
    }
   ],
   "source": [
    "correct_dict"
   ]
  },
  {
   "cell_type": "code",
   "execution_count": 15,
   "metadata": {},
   "outputs": [
    {
     "data": {
      "text/plain": [
       "[('청와대', 0.99),\n",
       " ('농구장', 0.985),\n",
       " ('폭포', 0.985),\n",
       " ('동대문디자인플라자', 0.98),\n",
       " ('세빛섬', 0.98),\n",
       " ('PC방', 0.98),\n",
       " ('국회의사당', 0.98),\n",
       " ('스키장', 0.98),\n",
       " ('남산서울타워', 0.975),\n",
       " ('볼링장', 0.97),\n",
       " ('야구장', 0.96),\n",
       " ('63빌딩', 0.96),\n",
       " ('도서관', 0.955),\n",
       " ('축구장', 0.955),\n",
       " ('산', 0.95),\n",
       " ('호텔', 0.95),\n",
       " ('식물원', 0.95),\n",
       " ('궁궐', 0.95),\n",
       " ('수상레포츠', 0.949),\n",
       " ('동물원', 0.945),\n",
       " ('교회', 0.945),\n",
       " ('베이커리', 0.945),\n",
       " ('해수욕장', 0.945),\n",
       " ('숲', 0.943),\n",
       " ('빨래방', 0.94),\n",
       " ('지하철역', 0.94),\n",
       " ('찜질방', 0.94),\n",
       " ('공연장', 0.938),\n",
       " ('아쿠아리움', 0.93),\n",
       " ('캠핑장', 0.93),\n",
       " ('패스트푸드점', 0.93),\n",
       " ('시장', 0.925),\n",
       " ('수영장', 0.92),\n",
       " ('아이스링크', 0.919),\n",
       " ('컨벤션센터', 0.915),\n",
       " ('쇼핑몰', 0.91),\n",
       " ('헬스장', 0.9),\n",
       " ('공항', 0.882),\n",
       " ('성당', 0.88),\n",
       " ('롯데월드타워', 0.86),\n",
       " ('키즈카페', 0.855),\n",
       " ('놀이터', 0.855),\n",
       " ('골프장', 0.84),\n",
       " ('미용실', 0.83),\n",
       " ('공원', 0.827),\n",
       " ('대학교', 0.805),\n",
       " ('병원', 0.775),\n",
       " ('다리', 0.775),\n",
       " ('한옥마을', 0.765),\n",
       " ('박물관', 0.75),\n",
       " ('미술관', 0.714),\n",
       " ('절', 0.7),\n",
       " ('워터파크', 0.682),\n",
       " ('놀이공원', 0.67),\n",
       " ('클럽', 0.615)]"
      ]
     },
     "execution_count": 15,
     "metadata": {},
     "output_type": "execute_result"
    }
   ],
   "source": [
    "accuracy_dict = {}\n",
    "for label in correct_dict:\n",
    "    accuracy_dict[label] = round(correct_dict[label]/count[label], 3)\n",
    "\n",
    "sorted(accuracy_dict.items(), key=lambda x: x[1], reverse=True)"
   ]
  },
  {
   "cell_type": "markdown",
   "metadata": {},
   "source": [
    "## 224 without augmentation"
   ]
  },
  {
   "cell_type": "code",
   "execution_count": 9,
   "metadata": {},
   "outputs": [],
   "source": [
    "model = tf.keras.models.load_model(os.path.join(model_dir, 'efn_b0_224_na_5-0.43-0.90.h5'))"
   ]
  },
  {
   "cell_type": "code",
   "execution_count": 10,
   "metadata": {},
   "outputs": [
    {
     "data": {
      "application/vnd.jupyter.widget-view+json": {
       "model_id": "a48cdef4770b416091073ceff40810be",
       "version_major": 2,
       "version_minor": 0
      },
      "text/plain": [
       "  0%|          | 0/10970 [00:00<?, ?it/s]"
      ]
     },
     "metadata": {},
     "output_type": "display_data"
    },
    {
     "name": "stdout",
     "output_type": "stream",
     "text": [
      "Invalid image: /home/ssac21/UDIGO/dataset/test/수영장/img03_01_02_04.gif\n",
      "Invalid image: /home/ssac21/UDIGO/dataset/test/수상레포츠/one-footed_skiing064.gif?type=w580\n",
      "Invalid image: /home/ssac21/UDIGO/dataset/test/수상레포츠/surf_board01.gif?type=w2\n",
      "Invalid image: /home/ssac21/UDIGO/dataset/test/폭포/bf2698b4fe5dfcb1ac9187aa34c06699.gif\n",
      "Invalid image: /home/ssac21/UDIGO/dataset/test/폭포/bf42ca3213a39ecdf97ed5141b23bc71.gif\n",
      "Invalid image: /home/ssac21/UDIGO/dataset/test/워터파크/waterpark_580\n",
      "Invalid image: /home/ssac21/UDIGO/dataset/test/워터파크/waterpark_001.gif?type=w1\n",
      "Invalid image: /home/ssac21/UDIGO/dataset/test/볼링장/095162b2-e684-4a65-a8de-48a93307a596.gif\n",
      "Invalid image: /home/ssac21/UDIGO/dataset/test/볼링장/a4b6d053-877c-48db-a5a1-dc808ea6db46.gif\n",
      "10961 data, test complete!\n",
      "Test Accuracy: 0.905\n"
     ]
    }
   ],
   "source": [
    "label_list, correct_dict = test_model(image_list, img_size=224)"
   ]
  },
  {
   "cell_type": "code",
   "execution_count": 11,
   "metadata": {},
   "outputs": [
    {
     "data": {
      "text/plain": [
       "[('세빛섬', 1.0),\n",
       " ('청와대', 0.995),\n",
       " ('폭포', 0.995),\n",
       " ('농구장', 0.99),\n",
       " ('국회의사당', 0.99),\n",
       " ('동대문디자인플라자', 0.985),\n",
       " ('시장', 0.98),\n",
       " ('PC방', 0.98),\n",
       " ('교회', 0.98),\n",
       " ('축구장', 0.975),\n",
       " ('남산서울타워', 0.975),\n",
       " ('호텔', 0.97),\n",
       " ('동물원', 0.97),\n",
       " ('아쿠아리움', 0.97),\n",
       " ('식물원', 0.965),\n",
       " ('빨래방', 0.965),\n",
       " ('지하철역', 0.965),\n",
       " ('63빌딩', 0.96),\n",
       " ('도서관', 0.96),\n",
       " ('볼링장', 0.96),\n",
       " ('스키장', 0.96),\n",
       " ('컨벤션센터', 0.955),\n",
       " ('산', 0.95),\n",
       " ('야구장', 0.949),\n",
       " ('베이커리', 0.945),\n",
       " ('찜질방', 0.945),\n",
       " ('캠핑장', 0.94),\n",
       " ('패스트푸드점', 0.935),\n",
       " ('헬스장', 0.93),\n",
       " ('궁궐', 0.93),\n",
       " ('해수욕장', 0.93),\n",
       " ('수상레포츠', 0.929),\n",
       " ('숲', 0.923),\n",
       " ('공연장', 0.918),\n",
       " ('수영장', 0.91),\n",
       " ('쇼핑몰', 0.895),\n",
       " ('아이스링크', 0.888),\n",
       " ('미용실', 0.875),\n",
       " ('성당', 0.875),\n",
       " ('골프장', 0.865),\n",
       " ('놀이터', 0.865),\n",
       " ('롯데월드타워', 0.86),\n",
       " ('공항', 0.856),\n",
       " ('대학교', 0.845),\n",
       " ('다리', 0.815),\n",
       " ('키즈카페', 0.805),\n",
       " ('한옥마을', 0.785),\n",
       " ('절', 0.78),\n",
       " ('공원', 0.777),\n",
       " ('박물관', 0.77),\n",
       " ('병원', 0.75),\n",
       " ('미술관', 0.739),\n",
       " ('클럽', 0.725),\n",
       " ('워터파크', 0.722),\n",
       " ('놀이공원', 0.71)]"
      ]
     },
     "execution_count": 11,
     "metadata": {},
     "output_type": "execute_result"
    }
   ],
   "source": [
    "count = collections.Counter(label_list)\n",
    "accuracy_dict = {}\n",
    "for label in correct_dict:\n",
    "    accuracy_dict[label] = round(correct_dict[label]/count[label], 3)\n",
    "\n",
    "sorted(accuracy_dict.items(), key=lambda x: x[1], reverse=True)"
   ]
  },
  {
   "cell_type": "markdown",
   "metadata": {},
   "source": [
    "# EfficientNetB1"
   ]
  },
  {
   "cell_type": "markdown",
   "metadata": {},
   "source": [
    "## 224 with augmentation"
   ]
  },
  {
   "cell_type": "code",
   "execution_count": 17,
   "metadata": {},
   "outputs": [],
   "source": [
    "model = tf.keras.models.load_model(os.path.join(model_dir, 'efn_b1_224_11-0.46-0.90.h5'))"
   ]
  },
  {
   "cell_type": "code",
   "execution_count": 18,
   "metadata": {},
   "outputs": [
    {
     "name": "stdout",
     "output_type": "stream",
     "text": [
      "Model: \"model\"\n",
      "_________________________________________________________________\n",
      "Layer (type)                 Output Shape              Param #   \n",
      "=================================================================\n",
      "input_2 (InputLayer)         [(None, 224, 224, 3)]     0         \n",
      "_________________________________________________________________\n",
      "sequential (Sequential)      (None, 224, 224, 3)       0         \n",
      "_________________________________________________________________\n",
      "efficientnetb1 (Functional)  (None, 1280)              6575239   \n",
      "_________________________________________________________________\n",
      "dense (Dense)                (None, 55)                70455     \n",
      "=================================================================\n",
      "Total params: 6,645,694\n",
      "Trainable params: 6,583,639\n",
      "Non-trainable params: 62,055\n",
      "_________________________________________________________________\n"
     ]
    }
   ],
   "source": [
    "model.summary()"
   ]
  },
  {
   "cell_type": "code",
   "execution_count": 19,
   "metadata": {},
   "outputs": [
    {
     "data": {
      "application/vnd.jupyter.widget-view+json": {
       "model_id": "8ae87ba5923d447692db539e5eeacd04",
       "version_major": 2,
       "version_minor": 0
      },
      "text/plain": [
       "  0%|          | 0/10970 [00:00<?, ?it/s]"
      ]
     },
     "metadata": {},
     "output_type": "display_data"
    },
    {
     "name": "stdout",
     "output_type": "stream",
     "text": [
      "Invalid image: /home/ssac21/UDIGO/dataset/test/수영장/img03_01_02_04.gif\n",
      "Invalid image: /home/ssac21/UDIGO/dataset/test/수상레포츠/one-footed_skiing064.gif?type=w580\n",
      "Invalid image: /home/ssac21/UDIGO/dataset/test/수상레포츠/surf_board01.gif?type=w2\n",
      "Invalid image: /home/ssac21/UDIGO/dataset/test/폭포/bf2698b4fe5dfcb1ac9187aa34c06699.gif\n",
      "Invalid image: /home/ssac21/UDIGO/dataset/test/폭포/bf42ca3213a39ecdf97ed5141b23bc71.gif\n",
      "Invalid image: /home/ssac21/UDIGO/dataset/test/워터파크/waterpark_580\n",
      "Invalid image: /home/ssac21/UDIGO/dataset/test/워터파크/waterpark_001.gif?type=w1\n",
      "Invalid image: /home/ssac21/UDIGO/dataset/test/볼링장/095162b2-e684-4a65-a8de-48a93307a596.gif\n",
      "Invalid image: /home/ssac21/UDIGO/dataset/test/볼링장/a4b6d053-877c-48db-a5a1-dc808ea6db46.gif\n",
      "10961 data, test complete!\n",
      "Test Accuracy: 0.902\n"
     ]
    }
   ],
   "source": [
    "label_list, correct_dict = test_model(image_list, img_size=224)"
   ]
  },
  {
   "cell_type": "code",
   "execution_count": 20,
   "metadata": {},
   "outputs": [
    {
     "data": {
      "text/plain": [
       "[('청와대', 0.995),\n",
       " ('세빛섬', 0.99),\n",
       " ('폭포', 0.99),\n",
       " ('농구장', 0.985),\n",
       " ('국회의사당', 0.985),\n",
       " ('시장', 0.98),\n",
       " ('호텔', 0.98),\n",
       " ('동대문디자인플라자', 0.98),\n",
       " ('교회', 0.98),\n",
       " ('수상레포츠', 0.975),\n",
       " ('동물원', 0.97),\n",
       " ('PC방', 0.97),\n",
       " ('컨벤션센터', 0.97),\n",
       " ('지하철역', 0.965),\n",
       " ('남산서울타워', 0.965),\n",
       " ('축구장', 0.96),\n",
       " ('스키장', 0.96),\n",
       " ('야구장', 0.955),\n",
       " ('63빌딩', 0.955),\n",
       " ('볼링장', 0.955),\n",
       " ('식물원', 0.95),\n",
       " ('빨래방', 0.95),\n",
       " ('산', 0.945),\n",
       " ('수영장', 0.945),\n",
       " ('도서관', 0.945),\n",
       " ('숲', 0.943),\n",
       " ('궁궐', 0.94),\n",
       " ('패스트푸드점', 0.94),\n",
       " ('베이커리', 0.94),\n",
       " ('해수욕장', 0.935),\n",
       " ('아쿠아리움', 0.93),\n",
       " ('캠핑장', 0.93),\n",
       " ('찜질방', 0.91),\n",
       " ('공연장', 0.908),\n",
       " ('헬스장', 0.905),\n",
       " ('골프장', 0.9),\n",
       " ('아이스링크', 0.898),\n",
       " ('미용실', 0.88),\n",
       " ('성당', 0.88),\n",
       " ('놀이터', 0.87),\n",
       " ('롯데월드타워', 0.865),\n",
       " ('쇼핑몰', 0.86),\n",
       " ('공항', 0.856),\n",
       " ('키즈카페', 0.835),\n",
       " ('대학교', 0.815),\n",
       " ('절', 0.795),\n",
       " ('한옥마을', 0.78),\n",
       " ('워터파크', 0.778),\n",
       " ('다리', 0.77),\n",
       " ('미술관', 0.759),\n",
       " ('공원', 0.756),\n",
       " ('박물관', 0.755),\n",
       " ('병원', 0.75),\n",
       " ('클럽', 0.675),\n",
       " ('놀이공원', 0.655)]"
      ]
     },
     "execution_count": 20,
     "metadata": {},
     "output_type": "execute_result"
    }
   ],
   "source": [
    "count = collections.Counter(label_list)\n",
    "accuracy_dict = {}\n",
    "for label in correct_dict:\n",
    "    accuracy_dict[label] = round(correct_dict[label]/count[label], 3)\n",
    "\n",
    "sorted(accuracy_dict.items(), key=lambda x: x[1], reverse=True)"
   ]
  },
  {
   "cell_type": "markdown",
   "metadata": {},
   "source": [
    "## 224 without augmentation"
   ]
  },
  {
   "cell_type": "code",
   "execution_count": 9,
   "metadata": {},
   "outputs": [],
   "source": [
    "model = tf.keras.models.load_model(os.path.join(model_dir, 'efn_b1_224_na_5-0.43-0.90.h5'))"
   ]
  },
  {
   "cell_type": "code",
   "execution_count": 10,
   "metadata": {},
   "outputs": [
    {
     "data": {
      "application/vnd.jupyter.widget-view+json": {
       "model_id": "8d71e4eb92354ca49250e3aabd585dfa",
       "version_major": 2,
       "version_minor": 0
      },
      "text/plain": [
       "  0%|          | 0/10970 [00:00<?, ?it/s]"
      ]
     },
     "metadata": {},
     "output_type": "display_data"
    },
    {
     "name": "stdout",
     "output_type": "stream",
     "text": [
      "Invalid image: /home/ssac21/UDIGO/dataset/test/수영장/img03_01_02_04.gif\n",
      "Invalid image: /home/ssac21/UDIGO/dataset/test/수상레포츠/one-footed_skiing064.gif?type=w580\n",
      "Invalid image: /home/ssac21/UDIGO/dataset/test/수상레포츠/surf_board01.gif?type=w2\n",
      "Invalid image: /home/ssac21/UDIGO/dataset/test/폭포/bf2698b4fe5dfcb1ac9187aa34c06699.gif\n",
      "Invalid image: /home/ssac21/UDIGO/dataset/test/폭포/bf42ca3213a39ecdf97ed5141b23bc71.gif\n",
      "Invalid image: /home/ssac21/UDIGO/dataset/test/워터파크/waterpark_580\n",
      "Invalid image: /home/ssac21/UDIGO/dataset/test/워터파크/waterpark_001.gif?type=w1\n",
      "Invalid image: /home/ssac21/UDIGO/dataset/test/볼링장/095162b2-e684-4a65-a8de-48a93307a596.gif\n",
      "Invalid image: /home/ssac21/UDIGO/dataset/test/볼링장/a4b6d053-877c-48db-a5a1-dc808ea6db46.gif\n",
      "10961 data, test complete!\n",
      "Test Accuracy: 0.901\n"
     ]
    }
   ],
   "source": [
    "label_list, correct_dict = test_model(image_list, img_size=224)"
   ]
  },
  {
   "cell_type": "code",
   "execution_count": 11,
   "metadata": {},
   "outputs": [
    {
     "data": {
      "text/plain": [
       "[('청와대', 0.995),\n",
       " ('세빛섬', 0.995),\n",
       " ('폭포', 0.99),\n",
       " ('국회의사당', 0.99),\n",
       " ('농구장', 0.985),\n",
       " ('축구장', 0.98),\n",
       " ('산', 0.975),\n",
       " ('동대문디자인플라자', 0.975),\n",
       " ('PC방', 0.975),\n",
       " ('교회', 0.975),\n",
       " ('시장', 0.97),\n",
       " ('도서관', 0.97),\n",
       " ('호텔', 0.965),\n",
       " ('동물원', 0.965),\n",
       " ('패스트푸드점', 0.965),\n",
       " ('남산서울타워', 0.965),\n",
       " ('야구장', 0.96),\n",
       " ('지하철역', 0.96),\n",
       " ('63빌딩', 0.96),\n",
       " ('스키장', 0.96),\n",
       " ('식물원', 0.955),\n",
       " ('볼링장', 0.955),\n",
       " ('숲', 0.954),\n",
       " ('아쿠아리움', 0.945),\n",
       " ('궁궐', 0.945),\n",
       " ('수상레포츠', 0.939),\n",
       " ('빨래방', 0.935),\n",
       " ('컨벤션센터', 0.93),\n",
       " ('캠핑장', 0.92),\n",
       " ('베이커리', 0.92),\n",
       " ('해수욕장', 0.92),\n",
       " ('수영장', 0.915),\n",
       " ('공항', 0.913),\n",
       " ('찜질방', 0.91),\n",
       " ('공연장', 0.903),\n",
       " ('헬스장', 0.9),\n",
       " ('미용실', 0.895),\n",
       " ('아이스링크', 0.883),\n",
       " ('골프장', 0.875),\n",
       " ('쇼핑몰', 0.87),\n",
       " ('성당', 0.87),\n",
       " ('놀이터', 0.865),\n",
       " ('롯데월드타워', 0.85),\n",
       " ('다리', 0.82),\n",
       " ('공원', 0.797),\n",
       " ('키즈카페', 0.795),\n",
       " ('대학교', 0.795),\n",
       " ('한옥마을', 0.795),\n",
       " ('박물관', 0.776),\n",
       " ('병원', 0.755),\n",
       " ('워터파크', 0.747),\n",
       " ('절', 0.735),\n",
       " ('미술관', 0.724),\n",
       " ('클럽', 0.72),\n",
       " ('놀이공원', 0.68)]"
      ]
     },
     "execution_count": 11,
     "metadata": {},
     "output_type": "execute_result"
    }
   ],
   "source": [
    "count = collections.Counter(label_list)\n",
    "accuracy_dict = {}\n",
    "for label in correct_dict:\n",
    "    accuracy_dict[label] = round(correct_dict[label]/count[label], 3)\n",
    "\n",
    "sorted(accuracy_dict.items(), key=lambda x: x[1], reverse=True)"
   ]
  },
  {
   "cell_type": "markdown",
   "metadata": {},
   "source": [
    "## 240 with augmentation"
   ]
  },
  {
   "cell_type": "code",
   "execution_count": 12,
   "metadata": {},
   "outputs": [],
   "source": [
    "model = tf.keras.models.load_model(os.path.join(model_dir, 'efn_b1_240_6-0.41-0.90.h5'))"
   ]
  },
  {
   "cell_type": "code",
   "execution_count": 13,
   "metadata": {},
   "outputs": [
    {
     "data": {
      "application/vnd.jupyter.widget-view+json": {
       "model_id": "c0ad5c7ad3e14d879612050bf6cbfdab",
       "version_major": 2,
       "version_minor": 0
      },
      "text/plain": [
       "  0%|          | 0/10970 [00:00<?, ?it/s]"
      ]
     },
     "metadata": {},
     "output_type": "display_data"
    },
    {
     "name": "stdout",
     "output_type": "stream",
     "text": [
      "Invalid image: /home/ssac21/UDIGO/dataset/test/수영장/img03_01_02_04.gif\n",
      "Invalid image: /home/ssac21/UDIGO/dataset/test/수상레포츠/one-footed_skiing064.gif?type=w580\n",
      "Invalid image: /home/ssac21/UDIGO/dataset/test/수상레포츠/surf_board01.gif?type=w2\n",
      "Invalid image: /home/ssac21/UDIGO/dataset/test/폭포/bf2698b4fe5dfcb1ac9187aa34c06699.gif\n",
      "Invalid image: /home/ssac21/UDIGO/dataset/test/폭포/bf42ca3213a39ecdf97ed5141b23bc71.gif\n",
      "Invalid image: /home/ssac21/UDIGO/dataset/test/워터파크/waterpark_580\n",
      "Invalid image: /home/ssac21/UDIGO/dataset/test/워터파크/waterpark_001.gif?type=w1\n",
      "Invalid image: /home/ssac21/UDIGO/dataset/test/볼링장/095162b2-e684-4a65-a8de-48a93307a596.gif\n",
      "Invalid image: /home/ssac21/UDIGO/dataset/test/볼링장/a4b6d053-877c-48db-a5a1-dc808ea6db46.gif\n",
      "10961 data, test complete!\n",
      "Test Accuracy: 0.889\n"
     ]
    }
   ],
   "source": [
    "label_list, correct_dict = test_model(image_list, img_size=240)"
   ]
  },
  {
   "cell_type": "code",
   "execution_count": 14,
   "metadata": {},
   "outputs": [
    {
     "data": {
      "text/plain": [
       "[('세빛섬', 0.995),\n",
       " ('폭포', 0.995),\n",
       " ('호텔', 0.99),\n",
       " ('국회의사당', 0.99),\n",
       " ('농구장', 0.985),\n",
       " ('동대문디자인플라자', 0.985),\n",
       " ('숲', 0.979),\n",
       " ('청와대', 0.975),\n",
       " ('PC방', 0.975),\n",
       " ('수상레포츠', 0.97),\n",
       " ('볼링장', 0.97),\n",
       " ('남산서울타워', 0.97),\n",
       " ('63빌딩', 0.96),\n",
       " ('축구장', 0.96),\n",
       " ('빨래방', 0.955),\n",
       " ('지하철역', 0.95),\n",
       " ('도서관', 0.95),\n",
       " ('스키장', 0.95),\n",
       " ('야구장', 0.949),\n",
       " ('식물원', 0.94),\n",
       " ('궁궐', 0.94),\n",
       " ('산', 0.93),\n",
       " ('찜질방', 0.93),\n",
       " ('동물원', 0.925),\n",
       " ('교회', 0.925),\n",
       " ('캠핑장', 0.92),\n",
       " ('패스트푸드점', 0.915),\n",
       " ('아이스링크', 0.914),\n",
       " ('헬스장', 0.91),\n",
       " ('베이커리', 0.91),\n",
       " ('해수욕장', 0.905),\n",
       " ('아쿠아리움', 0.9),\n",
       " ('컨벤션센터', 0.9),\n",
       " ('수영장', 0.899),\n",
       " ('공연장', 0.897),\n",
       " ('성당', 0.89),\n",
       " ('골프장', 0.88),\n",
       " ('놀이터', 0.88),\n",
       " ('쇼핑몰', 0.87),\n",
       " ('미용실', 0.855),\n",
       " ('시장', 0.85),\n",
       " ('키즈카페', 0.85),\n",
       " ('롯데월드타워', 0.835),\n",
       " ('공항', 0.826),\n",
       " ('다리', 0.81),\n",
       " ('대학교', 0.8),\n",
       " ('공원', 0.792),\n",
       " ('한옥마을', 0.785),\n",
       " ('병원', 0.77),\n",
       " ('미술관', 0.754),\n",
       " ('박물관', 0.75),\n",
       " ('워터파크', 0.672),\n",
       " ('클럽', 0.655),\n",
       " ('절', 0.655),\n",
       " ('놀이공원', 0.62)]"
      ]
     },
     "execution_count": 14,
     "metadata": {},
     "output_type": "execute_result"
    }
   ],
   "source": [
    "count = collections.Counter(label_list)\n",
    "accuracy_dict = {}\n",
    "for label in correct_dict:\n",
    "    accuracy_dict[label] = round(correct_dict[label]/count[label], 3)\n",
    "\n",
    "sorted(accuracy_dict.items(), key=lambda x: x[1], reverse=True)"
   ]
  },
  {
   "cell_type": "markdown",
   "metadata": {},
   "source": [
    "# EfficientNetB2"
   ]
  },
  {
   "cell_type": "markdown",
   "metadata": {},
   "source": [
    "## 224 with augmentation"
   ]
  },
  {
   "cell_type": "code",
   "execution_count": 21,
   "metadata": {},
   "outputs": [],
   "source": [
    "model = tf.keras.models.load_model(os.path.join(model_dir, 'efn_b2_224_5-0.42-0.89.h5'))"
   ]
  },
  {
   "cell_type": "code",
   "execution_count": 22,
   "metadata": {},
   "outputs": [
    {
     "name": "stdout",
     "output_type": "stream",
     "text": [
      "Model: \"model\"\n",
      "_________________________________________________________________\n",
      "Layer (type)                 Output Shape              Param #   \n",
      "=================================================================\n",
      "input_2 (InputLayer)         [(None, 224, 224, 3)]     0         \n",
      "_________________________________________________________________\n",
      "sequential (Sequential)      (None, 224, 224, 3)       0         \n",
      "_________________________________________________________________\n",
      "efficientnetb2 (Functional)  (None, 1408)              7768569   \n",
      "_________________________________________________________________\n",
      "dense (Dense)                (None, 55)                77495     \n",
      "=================================================================\n",
      "Total params: 7,846,064\n",
      "Trainable params: 7,778,489\n",
      "Non-trainable params: 67,575\n",
      "_________________________________________________________________\n"
     ]
    }
   ],
   "source": [
    "model.summary()"
   ]
  },
  {
   "cell_type": "code",
   "execution_count": 23,
   "metadata": {},
   "outputs": [
    {
     "data": {
      "application/vnd.jupyter.widget-view+json": {
       "model_id": "d0c15b5b3f2c44f5bdcf34903b0df9c2",
       "version_major": 2,
       "version_minor": 0
      },
      "text/plain": [
       "  0%|          | 0/10970 [00:00<?, ?it/s]"
      ]
     },
     "metadata": {},
     "output_type": "display_data"
    },
    {
     "name": "stdout",
     "output_type": "stream",
     "text": [
      "Invalid image: /home/ssac21/UDIGO/dataset/test/수영장/img03_01_02_04.gif\n",
      "Invalid image: /home/ssac21/UDIGO/dataset/test/수상레포츠/one-footed_skiing064.gif?type=w580\n",
      "Invalid image: /home/ssac21/UDIGO/dataset/test/수상레포츠/surf_board01.gif?type=w2\n",
      "Invalid image: /home/ssac21/UDIGO/dataset/test/폭포/bf2698b4fe5dfcb1ac9187aa34c06699.gif\n",
      "Invalid image: /home/ssac21/UDIGO/dataset/test/폭포/bf42ca3213a39ecdf97ed5141b23bc71.gif\n",
      "Invalid image: /home/ssac21/UDIGO/dataset/test/워터파크/waterpark_580\n",
      "Invalid image: /home/ssac21/UDIGO/dataset/test/워터파크/waterpark_001.gif?type=w1\n",
      "Invalid image: /home/ssac21/UDIGO/dataset/test/볼링장/095162b2-e684-4a65-a8de-48a93307a596.gif\n",
      "Invalid image: /home/ssac21/UDIGO/dataset/test/볼링장/a4b6d053-877c-48db-a5a1-dc808ea6db46.gif\n",
      "10961 data, test complete!\n",
      "Test Accuracy: 0.902\n"
     ]
    }
   ],
   "source": [
    "label_list, correct_dict = test_model(image_list, img_size=224)"
   ]
  },
  {
   "cell_type": "code",
   "execution_count": 24,
   "metadata": {},
   "outputs": [
    {
     "data": {
      "text/plain": [
       "[('청와대', 0.995),\n",
       " ('세빛섬', 0.995),\n",
       " ('농구장', 0.985),\n",
       " ('PC방', 0.985),\n",
       " ('국회의사당', 0.985),\n",
       " ('축구장', 0.985),\n",
       " ('동대문디자인플라자', 0.98),\n",
       " ('폭포', 0.98),\n",
       " ('교회', 0.98),\n",
       " ('호텔', 0.975),\n",
       " ('스키장', 0.975),\n",
       " ('동물원', 0.97),\n",
       " ('63빌딩', 0.97),\n",
       " ('수상레포츠', 0.965),\n",
       " ('지하철역', 0.965),\n",
       " ('남산서울타워', 0.965),\n",
       " ('야구장', 0.96),\n",
       " ('식물원', 0.96),\n",
       " ('컨벤션센터', 0.96),\n",
       " ('도서관', 0.96),\n",
       " ('캠핑장', 0.96),\n",
       " ('패스트푸드점', 0.96),\n",
       " ('볼링장', 0.955),\n",
       " ('베이커리', 0.95),\n",
       " ('아쿠아리움', 0.945),\n",
       " ('시장', 0.94),\n",
       " ('빨래방', 0.94),\n",
       " ('찜질방', 0.94),\n",
       " ('공연장', 0.933),\n",
       " ('미용실', 0.925),\n",
       " ('궁궐', 0.925),\n",
       " ('산', 0.92),\n",
       " ('숲', 0.918),\n",
       " ('수영장', 0.91),\n",
       " ('아이스링크', 0.904),\n",
       " ('헬스장', 0.895),\n",
       " ('해수욕장', 0.895),\n",
       " ('롯데월드타워', 0.89),\n",
       " ('성당', 0.88),\n",
       " ('놀이터', 0.875),\n",
       " ('골프장', 0.865),\n",
       " ('공항', 0.851),\n",
       " ('쇼핑몰', 0.845),\n",
       " ('대학교', 0.835),\n",
       " ('다리', 0.81),\n",
       " ('공원', 0.807),\n",
       " ('키즈카페', 0.805),\n",
       " ('한옥마을', 0.79),\n",
       " ('박물관', 0.786),\n",
       " ('절', 0.77),\n",
       " ('미술관', 0.749),\n",
       " ('워터파크', 0.737),\n",
       " ('병원', 0.715),\n",
       " ('클럽', 0.66),\n",
       " ('놀이공원', 0.655)]"
      ]
     },
     "execution_count": 24,
     "metadata": {},
     "output_type": "execute_result"
    }
   ],
   "source": [
    "count = collections.Counter(label_list)\n",
    "accuracy_dict = {}\n",
    "for label in correct_dict:\n",
    "    accuracy_dict[label] = round(correct_dict[label]/count[label], 3)\n",
    "\n",
    "sorted(accuracy_dict.items(), key=lambda x: x[1], reverse=True)"
   ]
  },
  {
   "cell_type": "markdown",
   "metadata": {},
   "source": [
    "## 224 without augmentation"
   ]
  },
  {
   "cell_type": "code",
   "execution_count": 12,
   "metadata": {},
   "outputs": [],
   "source": [
    "model = tf.keras.models.load_model(os.path.join(model_dir, 'efn_b2_224_na_3-0.45-0.88.h5'))"
   ]
  },
  {
   "cell_type": "code",
   "execution_count": 13,
   "metadata": {},
   "outputs": [
    {
     "data": {
      "application/vnd.jupyter.widget-view+json": {
       "model_id": "3b3006252ac14f09bdbddd1c9865f019",
       "version_major": 2,
       "version_minor": 0
      },
      "text/plain": [
       "  0%|          | 0/10970 [00:00<?, ?it/s]"
      ]
     },
     "metadata": {},
     "output_type": "display_data"
    },
    {
     "name": "stdout",
     "output_type": "stream",
     "text": [
      "Invalid image: /home/ssac21/UDIGO/dataset/test/수영장/img03_01_02_04.gif\n",
      "Invalid image: /home/ssac21/UDIGO/dataset/test/수상레포츠/one-footed_skiing064.gif?type=w580\n",
      "Invalid image: /home/ssac21/UDIGO/dataset/test/수상레포츠/surf_board01.gif?type=w2\n",
      "Invalid image: /home/ssac21/UDIGO/dataset/test/폭포/bf2698b4fe5dfcb1ac9187aa34c06699.gif\n",
      "Invalid image: /home/ssac21/UDIGO/dataset/test/폭포/bf42ca3213a39ecdf97ed5141b23bc71.gif\n",
      "Invalid image: /home/ssac21/UDIGO/dataset/test/워터파크/waterpark_580\n",
      "Invalid image: /home/ssac21/UDIGO/dataset/test/워터파크/waterpark_001.gif?type=w1\n",
      "Invalid image: /home/ssac21/UDIGO/dataset/test/볼링장/095162b2-e684-4a65-a8de-48a93307a596.gif\n",
      "Invalid image: /home/ssac21/UDIGO/dataset/test/볼링장/a4b6d053-877c-48db-a5a1-dc808ea6db46.gif\n",
      "10961 data, test complete!\n",
      "Test Accuracy: 0.889\n"
     ]
    }
   ],
   "source": [
    "label_list, correct_dict = test_model(image_list, img_size=224)"
   ]
  },
  {
   "cell_type": "code",
   "execution_count": 14,
   "metadata": {},
   "outputs": [
    {
     "data": {
      "text/plain": [
       "[('폭포', 0.995),\n",
       " ('국회의사당', 0.995),\n",
       " ('세빛섬', 0.99),\n",
       " ('청와대', 0.985),\n",
       " ('PC방', 0.985),\n",
       " ('농구장', 0.98),\n",
       " ('시장', 0.98),\n",
       " ('동물원', 0.975),\n",
       " ('동대문디자인플라자', 0.97),\n",
       " ('63빌딩', 0.97),\n",
       " ('남산서울타워', 0.965),\n",
       " ('컨벤션센터', 0.96),\n",
       " ('야구장', 0.955),\n",
       " ('호텔', 0.955),\n",
       " ('축구장', 0.955),\n",
       " ('볼링장', 0.955),\n",
       " ('지하철역', 0.95),\n",
       " ('수상레포츠', 0.949),\n",
       " ('교회', 0.945),\n",
       " ('패스트푸드점', 0.94),\n",
       " ('식물원', 0.935),\n",
       " ('아쿠아리움', 0.935),\n",
       " ('스키장', 0.935),\n",
       " ('도서관', 0.93),\n",
       " ('빨래방', 0.925),\n",
       " ('헬스장', 0.925),\n",
       " ('숲', 0.923),\n",
       " ('산', 0.92),\n",
       " ('베이커리', 0.915),\n",
       " ('공연장', 0.908),\n",
       " ('궁궐', 0.905),\n",
       " ('캠핑장', 0.905),\n",
       " ('수영장', 0.899),\n",
       " ('아이스링크', 0.893),\n",
       " ('놀이터', 0.89),\n",
       " ('찜질방', 0.89),\n",
       " ('해수욕장', 0.885),\n",
       " ('미용실', 0.88),\n",
       " ('성당', 0.865),\n",
       " ('골프장', 0.845),\n",
       " ('키즈카페', 0.84),\n",
       " ('절', 0.835),\n",
       " ('쇼핑몰', 0.83),\n",
       " ('대학교', 0.825),\n",
       " ('다리', 0.815),\n",
       " ('공항', 0.81),\n",
       " ('롯데월드타워', 0.77),\n",
       " ('박물관', 0.76),\n",
       " ('한옥마을', 0.76),\n",
       " ('병원', 0.75),\n",
       " ('워터파크', 0.727),\n",
       " ('공원', 0.721),\n",
       " ('클럽', 0.685),\n",
       " ('놀이공원', 0.67),\n",
       " ('미술관', 0.648)]"
      ]
     },
     "execution_count": 14,
     "metadata": {},
     "output_type": "execute_result"
    }
   ],
   "source": [
    "count = collections.Counter(label_list)\n",
    "accuracy_dict = {}\n",
    "for label in correct_dict:\n",
    "    accuracy_dict[label] = round(correct_dict[label]/count[label], 3)\n",
    "\n",
    "sorted(accuracy_dict.items(), key=lambda x: x[1], reverse=True)"
   ]
  },
  {
   "cell_type": "markdown",
   "metadata": {},
   "source": [
    "## 260 with augmentation"
   ]
  },
  {
   "cell_type": "code",
   "execution_count": 25,
   "metadata": {},
   "outputs": [],
   "source": [
    "model = tf.keras.models.load_model(os.path.join(model_dir, 'efn_b2_260_9-0.40-0.91.h5'))"
   ]
  },
  {
   "cell_type": "code",
   "execution_count": 27,
   "metadata": {},
   "outputs": [
    {
     "data": {
      "application/vnd.jupyter.widget-view+json": {
       "model_id": "021a5d1b1f194053b20a56b69664cf30",
       "version_major": 2,
       "version_minor": 0
      },
      "text/plain": [
       "  0%|          | 0/10970 [00:00<?, ?it/s]"
      ]
     },
     "metadata": {},
     "output_type": "display_data"
    },
    {
     "name": "stdout",
     "output_type": "stream",
     "text": [
      "Invalid image: /home/ssac21/UDIGO/dataset/test/수영장/img03_01_02_04.gif\n",
      "Invalid image: /home/ssac21/UDIGO/dataset/test/수상레포츠/one-footed_skiing064.gif?type=w580\n",
      "Invalid image: /home/ssac21/UDIGO/dataset/test/수상레포츠/surf_board01.gif?type=w2\n",
      "Invalid image: /home/ssac21/UDIGO/dataset/test/폭포/bf2698b4fe5dfcb1ac9187aa34c06699.gif\n",
      "Invalid image: /home/ssac21/UDIGO/dataset/test/폭포/bf42ca3213a39ecdf97ed5141b23bc71.gif\n",
      "Invalid image: /home/ssac21/UDIGO/dataset/test/워터파크/waterpark_580\n",
      "Invalid image: /home/ssac21/UDIGO/dataset/test/워터파크/waterpark_001.gif?type=w1\n",
      "Invalid image: /home/ssac21/UDIGO/dataset/test/볼링장/095162b2-e684-4a65-a8de-48a93307a596.gif\n",
      "Invalid image: /home/ssac21/UDIGO/dataset/test/볼링장/a4b6d053-877c-48db-a5a1-dc808ea6db46.gif\n",
      "10961 data, test complete!\n",
      "Test Accuracy: 0.896\n"
     ]
    }
   ],
   "source": [
    "label_list, correct_dict = test_model(image_list, img_size=260)"
   ]
  },
  {
   "cell_type": "code",
   "execution_count": 28,
   "metadata": {},
   "outputs": [
    {
     "data": {
      "text/plain": [
       "[('세빛섬', 0.995),\n",
       " ('청와대', 0.99),\n",
       " ('농구장', 0.99),\n",
       " ('동대문디자인플라자', 0.985),\n",
       " ('호텔', 0.98),\n",
       " ('폭포', 0.98),\n",
       " ('국회의사당', 0.98),\n",
       " ('축구장', 0.98),\n",
       " ('남산서울타워', 0.98),\n",
       " ('PC방', 0.975),\n",
       " ('수상레포츠', 0.97),\n",
       " ('63빌딩', 0.97),\n",
       " ('도서관', 0.97),\n",
       " ('볼링장', 0.97),\n",
       " ('지하철역', 0.965),\n",
       " ('산', 0.96),\n",
       " ('야구장', 0.96),\n",
       " ('교회', 0.96),\n",
       " ('동물원', 0.95),\n",
       " ('숲', 0.943),\n",
       " ('빨래방', 0.94),\n",
       " ('궁궐', 0.94),\n",
       " ('패스트푸드점', 0.94),\n",
       " ('아이스링크', 0.939),\n",
       " ('수영장', 0.935),\n",
       " ('스키장', 0.93),\n",
       " ('캠핑장', 0.925),\n",
       " ('해수욕장', 0.925),\n",
       " ('찜질방', 0.925),\n",
       " ('식물원', 0.92),\n",
       " ('헬스장', 0.92),\n",
       " ('베이커리', 0.92),\n",
       " ('공연장', 0.913),\n",
       " ('아쿠아리움', 0.9),\n",
       " ('컨벤션센터', 0.895),\n",
       " ('골프장', 0.885),\n",
       " ('키즈카페', 0.875),\n",
       " ('미용실', 0.865),\n",
       " ('성당', 0.865),\n",
       " ('공항', 0.862),\n",
       " ('놀이터', 0.86),\n",
       " ('롯데월드타워', 0.855),\n",
       " ('쇼핑몰', 0.845),\n",
       " ('대학교', 0.84),\n",
       " ('시장', 0.835),\n",
       " ('한옥마을', 0.81),\n",
       " ('박물관', 0.796),\n",
       " ('미술관', 0.784),\n",
       " ('공원', 0.761),\n",
       " ('다리', 0.755),\n",
       " ('워터파크', 0.727),\n",
       " ('클럽', 0.71),\n",
       " ('병원', 0.695),\n",
       " ('놀이공원', 0.685),\n",
       " ('절', 0.665)]"
      ]
     },
     "execution_count": 28,
     "metadata": {},
     "output_type": "execute_result"
    }
   ],
   "source": [
    "count = collections.Counter(label_list)\n",
    "accuracy_dict = {}\n",
    "for label in correct_dict:\n",
    "    accuracy_dict[label] = round(correct_dict[label]/count[label], 3)\n",
    "\n",
    "sorted(accuracy_dict.items(), key=lambda x: x[1], reverse=True)"
   ]
  },
  {
   "cell_type": "markdown",
   "metadata": {},
   "source": [
    "## 260 without aucmentation"
   ]
  },
  {
   "cell_type": "code",
   "execution_count": 29,
   "metadata": {},
   "outputs": [],
   "source": [
    "model = tf.keras.models.load_model(os.path.join(model_dir, 'efn_b2_260_na_5-0.41-0.91.h5'))"
   ]
  },
  {
   "cell_type": "code",
   "execution_count": 31,
   "metadata": {},
   "outputs": [
    {
     "data": {
      "application/vnd.jupyter.widget-view+json": {
       "model_id": "f8d9e921bcd8447d810979af13a0fb16",
       "version_major": 2,
       "version_minor": 0
      },
      "text/plain": [
       "  0%|          | 0/10970 [00:00<?, ?it/s]"
      ]
     },
     "metadata": {},
     "output_type": "display_data"
    },
    {
     "name": "stdout",
     "output_type": "stream",
     "text": [
      "Invalid image: /home/ssac21/UDIGO/dataset/test/수영장/img03_01_02_04.gif\n",
      "Invalid image: /home/ssac21/UDIGO/dataset/test/수상레포츠/one-footed_skiing064.gif?type=w580\n",
      "Invalid image: /home/ssac21/UDIGO/dataset/test/수상레포츠/surf_board01.gif?type=w2\n",
      "Invalid image: /home/ssac21/UDIGO/dataset/test/폭포/bf2698b4fe5dfcb1ac9187aa34c06699.gif\n",
      "Invalid image: /home/ssac21/UDIGO/dataset/test/폭포/bf42ca3213a39ecdf97ed5141b23bc71.gif\n",
      "Invalid image: /home/ssac21/UDIGO/dataset/test/워터파크/waterpark_580\n",
      "Invalid image: /home/ssac21/UDIGO/dataset/test/워터파크/waterpark_001.gif?type=w1\n",
      "Invalid image: /home/ssac21/UDIGO/dataset/test/볼링장/095162b2-e684-4a65-a8de-48a93307a596.gif\n",
      "Invalid image: /home/ssac21/UDIGO/dataset/test/볼링장/a4b6d053-877c-48db-a5a1-dc808ea6db46.gif\n",
      "10961 data, test complete!\n",
      "Test Accuracy: 0.908\n"
     ]
    }
   ],
   "source": [
    "label_list, correct_dict = test_model(image_list, img_size=260)"
   ]
  },
  {
   "cell_type": "code",
   "execution_count": 32,
   "metadata": {},
   "outputs": [
    {
     "data": {
      "text/plain": [
       "[('농구장', 1.0),\n",
       " ('세빛섬', 0.995),\n",
       " ('청와대', 0.99),\n",
       " ('폭포', 0.99),\n",
       " ('국회의사당', 0.99),\n",
       " ('PC방', 0.985),\n",
       " ('도서관', 0.985),\n",
       " ('동대문디자인플라자', 0.98),\n",
       " ('지하철역', 0.98),\n",
       " ('야구장', 0.975),\n",
       " ('남산서울타워', 0.975),\n",
       " ('호텔', 0.97),\n",
       " ('동물원', 0.97),\n",
       " ('교회', 0.97),\n",
       " ('축구장', 0.97),\n",
       " ('63빌딩', 0.965),\n",
       " ('볼링장', 0.965),\n",
       " ('스키장', 0.965),\n",
       " ('산', 0.96),\n",
       " ('수상레포츠', 0.955),\n",
       " ('컨벤션센터', 0.95),\n",
       " ('궁궐', 0.95),\n",
       " ('캠핑장', 0.95),\n",
       " ('시장', 0.945),\n",
       " ('식물원', 0.945),\n",
       " ('빨래방', 0.945),\n",
       " ('패스트푸드점', 0.945),\n",
       " ('아쿠아리움', 0.94),\n",
       " ('베이커리', 0.935),\n",
       " ('찜질방', 0.935),\n",
       " ('아이스링크', 0.934),\n",
       " ('숲', 0.928),\n",
       " ('공연장', 0.928),\n",
       " ('수영장', 0.915),\n",
       " ('헬스장', 0.905),\n",
       " ('해수욕장', 0.9),\n",
       " ('성당', 0.895),\n",
       " ('미용실', 0.89),\n",
       " ('골프장', 0.89),\n",
       " ('놀이터', 0.875),\n",
       " ('쇼핑몰', 0.875),\n",
       " ('롯데월드타워', 0.875),\n",
       " ('공항', 0.867),\n",
       " ('키즈카페', 0.855),\n",
       " ('공원', 0.848),\n",
       " ('다리', 0.84),\n",
       " ('대학교', 0.83),\n",
       " ('한옥마을', 0.805),\n",
       " ('박물관', 0.786),\n",
       " ('병원', 0.775),\n",
       " ('워터파크', 0.737),\n",
       " ('미술관', 0.734),\n",
       " ('놀이공원', 0.7),\n",
       " ('클럽', 0.7),\n",
       " ('절', 0.7)]"
      ]
     },
     "execution_count": 32,
     "metadata": {},
     "output_type": "execute_result"
    }
   ],
   "source": [
    "count = collections.Counter(label_list)\n",
    "accuracy_dict = {}\n",
    "for label in correct_dict:\n",
    "    accuracy_dict[label] = round(correct_dict[label]/count[label], 3)\n",
    "\n",
    "sorted(accuracy_dict.items(), key=lambda x: x[1], reverse=True)"
   ]
  },
  {
   "cell_type": "markdown",
   "metadata": {},
   "source": [
    "# Model Ensemble"
   ]
  },
  {
   "cell_type": "markdown",
   "metadata": {},
   "source": [
    "## 3 models"
   ]
  },
  {
   "cell_type": "code",
   "execution_count": 7,
   "metadata": {},
   "outputs": [],
   "source": [
    "def inference_ensemble(img_path):\n",
    "    image = cv2.imread(img_path, cv2.IMREAD_COLOR)\n",
    "    image = cv2.cvtColor(image, cv2.COLOR_BGR2RGB)\n",
    "    image = cv2.resize(image, (224, 224))\n",
    "    image = image[np.newaxis, :, :, :]\n",
    "    \n",
    "    prediction = []\n",
    "    for model in models:\n",
    "        pred = model.predict(image, batch_size=1)\n",
    "        prediction.append(np.argmax(pred))\n",
    "    \n",
    "    vote_for_ensemble = collections.Counter(prediction).most_common()[0][0]\n",
    "    return vote_for_ensemble"
   ]
  },
  {
   "cell_type": "code",
   "execution_count": 8,
   "metadata": {},
   "outputs": [],
   "source": [
    "def test_model_ensemble(image_list):\n",
    "    label_list = []\n",
    "    correct_dict = {}\n",
    "    correct = 0\n",
    "    n = 0\n",
    "\n",
    "    for image in tqdm(image_list):\n",
    "        try:\n",
    "            pred = inference_ensemble(image)\n",
    "            n += 1\n",
    "\n",
    "            label = image.split(\"/\")[-2]\n",
    "            label_list.append(label)\n",
    "            if label not in correct_dict:\n",
    "                correct_dict[label] = 0\n",
    "\n",
    "            label_encoding = label_dict[label]\n",
    "            if pred == label_encoding:\n",
    "                correct_dict[label] += 1\n",
    "                correct += 1\n",
    "\n",
    "        except:\n",
    "            print(\"Invalid image:\", image)\n",
    "            continue\n",
    "\n",
    "    print(f\"{n} data, test complete!\")\n",
    "    print(\"Test Accuracy:\", round(correct / n, 3))\n",
    "    return label_list, correct_dict"
   ]
  },
  {
   "cell_type": "code",
   "execution_count": 9,
   "metadata": {},
   "outputs": [
    {
     "data": {
      "text/plain": [
       "['efn_b2_260_9-0.40-0.91.h5',\n",
       " 'efn_b1_240_6-0.41-0.90.h5',\n",
       " 'efn_b0_224_na_5-0.43-0.90.h5',\n",
       " 'efn_b1_224_na_5-0.43-0.90.h5',\n",
       " 'efn_b2_224_5-0.42-0.89.h5',\n",
       " 'efn_b1_224_11-0.46-0.90.h5',\n",
       " 'efn_b0_224_9-0.45-0.90.h5',\n",
       " 'efn_b2_260_na_5-0.41-0.91.h5',\n",
       " 'efn_b2_224_na_3-0.45-0.88.h5']"
      ]
     },
     "execution_count": 9,
     "metadata": {},
     "output_type": "execute_result"
    }
   ],
   "source": [
    "os.listdir(model_dir)"
   ]
  },
  {
   "cell_type": "code",
   "execution_count": 10,
   "metadata": {},
   "outputs": [],
   "source": [
    "model_1 = tf.keras.models.load_model(os.path.join(model_dir,  'efn_b0_224_na_5-0.43-0.90.h5'))\n",
    "model_2 = tf.keras.models.load_model(os.path.join(model_dir, 'efn_b1_224_11-0.46-0.90.h5'))\n",
    "model_3 = tf.keras.models.load_model(os.path.join(model_dir, 'efn_b2_224_5-0.42-0.89.h5'))\n",
    "models = [model_1, model_2, model_3]"
   ]
  },
  {
   "cell_type": "code",
   "execution_count": 11,
   "metadata": {},
   "outputs": [
    {
     "data": {
      "application/vnd.jupyter.widget-view+json": {
       "model_id": "9481ab6852a94080a40df8572cc21fb4",
       "version_major": 2,
       "version_minor": 0
      },
      "text/plain": [
       "  0%|          | 0/10970 [00:00<?, ?it/s]"
      ]
     },
     "metadata": {},
     "output_type": "display_data"
    },
    {
     "name": "stdout",
     "output_type": "stream",
     "text": [
      "Invalid image: /home/ssac21/UDIGO/dataset/test/수영장/img03_01_02_04.gif\n",
      "Invalid image: /home/ssac21/UDIGO/dataset/test/수상레포츠/one-footed_skiing064.gif?type=w580\n",
      "Invalid image: /home/ssac21/UDIGO/dataset/test/수상레포츠/surf_board01.gif?type=w2\n",
      "Invalid image: /home/ssac21/UDIGO/dataset/test/폭포/bf2698b4fe5dfcb1ac9187aa34c06699.gif\n",
      "Invalid image: /home/ssac21/UDIGO/dataset/test/폭포/bf42ca3213a39ecdf97ed5141b23bc71.gif\n",
      "Invalid image: /home/ssac21/UDIGO/dataset/test/워터파크/waterpark_580\n",
      "Invalid image: /home/ssac21/UDIGO/dataset/test/워터파크/waterpark_001.gif?type=w1\n",
      "Invalid image: /home/ssac21/UDIGO/dataset/test/볼링장/095162b2-e684-4a65-a8de-48a93307a596.gif\n",
      "Invalid image: /home/ssac21/UDIGO/dataset/test/볼링장/a4b6d053-877c-48db-a5a1-dc808ea6db46.gif\n",
      "10961 data, test complete!\n",
      "Test Accuracy: 0.918\n"
     ]
    }
   ],
   "source": [
    "label_list, correct_dict = test_model_ensemble(image_list)"
   ]
  },
  {
   "cell_type": "code",
   "execution_count": 12,
   "metadata": {},
   "outputs": [
    {
     "data": {
      "text/plain": [
       "[('세빛섬', 1.0),\n",
       " ('청와대', 0.995),\n",
       " ('폭포', 0.995),\n",
       " ('국회의사당', 0.995),\n",
       " ('농구장', 0.99),\n",
       " ('호텔', 0.985),\n",
       " ('동대문디자인플라자', 0.985),\n",
       " ('교회', 0.985),\n",
       " ('축구장', 0.985),\n",
       " ('식물원', 0.98),\n",
       " ('동물원', 0.98),\n",
       " ('PC방', 0.98),\n",
       " ('스키장', 0.98),\n",
       " ('시장', 0.975),\n",
       " ('남산서울타워', 0.975),\n",
       " ('수상레포츠', 0.97),\n",
       " ('지하철역', 0.97),\n",
       " ('컨벤션센터', 0.97),\n",
       " ('캠핑장', 0.97),\n",
       " ('패스트푸드점', 0.97),\n",
       " ('63빌딩', 0.965),\n",
       " ('도서관', 0.965),\n",
       " ('볼링장', 0.965),\n",
       " ('빨래방', 0.96),\n",
       " ('아쿠아리움', 0.96),\n",
       " ('베이커리', 0.96),\n",
       " ('야구장', 0.955),\n",
       " ('산', 0.945),\n",
       " ('찜질방', 0.945),\n",
       " ('궁궐', 0.94),\n",
       " ('공연장', 0.938),\n",
       " ('헬스장', 0.935),\n",
       " ('해수욕장', 0.935),\n",
       " ('숲', 0.933),\n",
       " ('아이스링크', 0.924),\n",
       " ('수영장', 0.92),\n",
       " ('미용실', 0.915),\n",
       " ('공항', 0.897),\n",
       " ('골프장', 0.89),\n",
       " ('쇼핑몰', 0.89),\n",
       " ('성당', 0.89),\n",
       " ('놀이터', 0.885),\n",
       " ('롯데월드타워', 0.885),\n",
       " ('대학교', 0.85),\n",
       " ('키즈카페', 0.845),\n",
       " ('다리', 0.845),\n",
       " ('절', 0.82),\n",
       " ('공원', 0.817),\n",
       " ('한옥마을', 0.815),\n",
       " ('박물관', 0.796),\n",
       " ('미술관', 0.784),\n",
       " ('워터파크', 0.753),\n",
       " ('병원', 0.745),\n",
       " ('놀이공원', 0.71),\n",
       " ('클럽', 0.695)]"
      ]
     },
     "execution_count": 12,
     "metadata": {},
     "output_type": "execute_result"
    }
   ],
   "source": [
    "count = collections.Counter(label_list)\n",
    "accuracy_dict = {}\n",
    "\n",
    "for label in correct_dict:\n",
    "    accuracy_dict[label] = round(correct_dict[label]/count[label], 3)\n",
    "\n",
    "sorted(accuracy_dict.items(), key=lambda x: x[1], reverse=True)"
   ]
  },
  {
   "cell_type": "markdown",
   "metadata": {},
   "source": [
    "## 4 models"
   ]
  },
  {
   "cell_type": "code",
   "execution_count": 9,
   "metadata": {},
   "outputs": [],
   "source": [
    "model_1 = tf.keras.models.load_model(os.path.join(model_dir,  'efn_b0_224_na_5-0.43-0.90.h5'))\n",
    "model_2 = tf.keras.models.load_model(os.path.join(model_dir, 'efn_b1_224_11-0.46-0.90.h5'))\n",
    "model_3 = tf.keras.models.load_model(os.path.join(model_dir, 'efn_b2_224_5-0.42-0.89.h5'))\n",
    "model_4 = tf.keras.models.load_model(os.path.join(model_dir, 'efn_b1_224_na_5-0.43-0.90.h5'))\n",
    "models = [model_1, model_2, model_3, model_4]"
   ]
  },
  {
   "cell_type": "code",
   "execution_count": 10,
   "metadata": {},
   "outputs": [
    {
     "data": {
      "application/vnd.jupyter.widget-view+json": {
       "model_id": "5fd7fda48e0d484b8c8795f6f2d2832d",
       "version_major": 2,
       "version_minor": 0
      },
      "text/plain": [
       "  0%|          | 0/10970 [00:00<?, ?it/s]"
      ]
     },
     "metadata": {},
     "output_type": "display_data"
    },
    {
     "name": "stdout",
     "output_type": "stream",
     "text": [
      "Invalid image: /home/ssac21/UDIGO/dataset/test/수영장/img03_01_02_04.gif\n",
      "Invalid image: /home/ssac21/UDIGO/dataset/test/수상레포츠/one-footed_skiing064.gif?type=w580\n",
      "Invalid image: /home/ssac21/UDIGO/dataset/test/수상레포츠/surf_board01.gif?type=w2\n",
      "Invalid image: /home/ssac21/UDIGO/dataset/test/폭포/bf2698b4fe5dfcb1ac9187aa34c06699.gif\n",
      "Invalid image: /home/ssac21/UDIGO/dataset/test/폭포/bf42ca3213a39ecdf97ed5141b23bc71.gif\n",
      "Invalid image: /home/ssac21/UDIGO/dataset/test/워터파크/waterpark_580\n",
      "Invalid image: /home/ssac21/UDIGO/dataset/test/워터파크/waterpark_001.gif?type=w1\n",
      "Invalid image: /home/ssac21/UDIGO/dataset/test/볼링장/095162b2-e684-4a65-a8de-48a93307a596.gif\n",
      "Invalid image: /home/ssac21/UDIGO/dataset/test/볼링장/a4b6d053-877c-48db-a5a1-dc808ea6db46.gif\n",
      "10961 data, test complete!\n",
      "Test Accuracy: 0.92\n"
     ]
    }
   ],
   "source": [
    "label_list, correct_dict = test_model_ensemble(image_list)"
   ]
  },
  {
   "cell_type": "code",
   "execution_count": 11,
   "metadata": {},
   "outputs": [
    {
     "data": {
      "text/plain": [
       "[('세빛섬', 1.0),\n",
       " ('청와대', 0.995),\n",
       " ('폭포', 0.995),\n",
       " ('국회의사당', 0.995),\n",
       " ('농구장', 0.99),\n",
       " ('호텔', 0.985),\n",
       " ('시장', 0.98),\n",
       " ('동물원', 0.98),\n",
       " ('동대문디자인플라자', 0.98),\n",
       " ('교회', 0.98),\n",
       " ('축구장', 0.98),\n",
       " ('스키장', 0.98),\n",
       " ('남산서울타워', 0.98),\n",
       " ('식물원', 0.975),\n",
       " ('PC방', 0.975),\n",
       " ('63빌딩', 0.975),\n",
       " ('지하철역', 0.97),\n",
       " ('패스트푸드점', 0.97),\n",
       " ('아쿠아리움', 0.965),\n",
       " ('컨벤션센터', 0.965),\n",
       " ('도서관', 0.965),\n",
       " ('캠핑장', 0.965),\n",
       " ('볼링장', 0.965),\n",
       " ('수상레포츠', 0.96),\n",
       " ('빨래방', 0.96),\n",
       " ('산', 0.955),\n",
       " ('야구장', 0.955),\n",
       " ('베이커리', 0.95),\n",
       " ('찜질방', 0.94),\n",
       " ('공연장', 0.938),\n",
       " ('헬스장', 0.935),\n",
       " ('궁궐', 0.935),\n",
       " ('미용실', 0.93),\n",
       " ('숲', 0.928),\n",
       " ('해수욕장', 0.925),\n",
       " ('수영장', 0.92),\n",
       " ('아이스링크', 0.919),\n",
       " ('쇼핑몰', 0.915),\n",
       " ('공항', 0.908),\n",
       " ('골프장', 0.895),\n",
       " ('놀이터', 0.89),\n",
       " ('성당', 0.89),\n",
       " ('롯데월드타워', 0.875),\n",
       " ('대학교', 0.85),\n",
       " ('키즈카페', 0.845),\n",
       " ('공원', 0.838),\n",
       " ('다리', 0.835),\n",
       " ('절', 0.82),\n",
       " ('한옥마을', 0.815),\n",
       " ('박물관', 0.811),\n",
       " ('미술관', 0.779),\n",
       " ('워터파크', 0.763),\n",
       " ('병원', 0.75),\n",
       " ('클럽', 0.73),\n",
       " ('놀이공원', 0.72)]"
      ]
     },
     "execution_count": 11,
     "metadata": {},
     "output_type": "execute_result"
    }
   ],
   "source": [
    "count = collections.Counter(label_list)\n",
    "accuracy_dict = {}\n",
    "\n",
    "for label in correct_dict:\n",
    "    accuracy_dict[label] = round(correct_dict[label]/count[label], 3)\n",
    "\n",
    "sorted(accuracy_dict.items(), key=lambda x: x[1], reverse=True)"
   ]
  }
 ],
 "metadata": {
  "kernelspec": {
   "display_name": "udigo",
   "language": "python",
   "name": "udigo"
  },
  "language_info": {
   "codemirror_mode": {
    "name": "ipython",
    "version": 3
   },
   "file_extension": ".py",
   "mimetype": "text/x-python",
   "name": "python",
   "nbconvert_exporter": "python",
   "pygments_lexer": "ipython3",
   "version": "3.7.10"
  },
  "toc": {
   "base_numbering": 1,
   "nav_menu": {},
   "number_sections": false,
   "sideBar": true,
   "skip_h1_title": false,
   "title_cell": "Contents",
   "title_sidebar": "Contents",
   "toc_cell": true,
   "toc_position": {
    "height": "calc(100% - 180px)",
    "left": "10px",
    "top": "150px",
    "width": "336.903px"
   },
   "toc_section_display": true,
   "toc_window_display": true
  }
 },
 "nbformat": 4,
 "nbformat_minor": 4
}
