{
 "cells": [
  {
   "cell_type": "markdown",
   "metadata": {
    "toc": true
   },
   "source": [
    "<h1>Contents<span class=\"tocSkip\"></span></h1>\n",
    "<div class=\"toc\"><ul class=\"toc-item\"><li><span><a href=\"#load-model\" data-toc-modified-id=\"load-model-1\">load model</a></span></li><li><span><a href=\"#test-model\" data-toc-modified-id=\"test-model-2\">test model</a></span></li></ul></div>"
   ]
  },
  {
   "cell_type": "markdown",
   "metadata": {},
   "source": [
    "# load model"
   ]
  },
  {
   "cell_type": "code",
   "execution_count": 1,
   "metadata": {},
   "outputs": [],
   "source": [
    "import os\n",
    "import glob\n",
    "import cv2\n",
    "import tensorflow as tf\n",
    "import numpy as np\n",
    "import json\n",
    "from tqdm.notebook import tqdm"
   ]
  },
  {
   "cell_type": "code",
   "execution_count": 2,
   "metadata": {},
   "outputs": [],
   "source": [
    "work_dir = os.path.join(os.getenv(\"HOME\"), \"UDIGO\")\n",
    "model_dir = os.path.join(work_dir, \"models\")\n",
    "test_dir = os.path.join(work_dir, \"test_data\")\n",
    "data_dir = os.path.join(work_dir, \"data\")"
   ]
  },
  {
   "cell_type": "code",
   "execution_count": 3,
   "metadata": {},
   "outputs": [
    {
     "data": {
      "text/plain": [
       "['EfficientNetB0-9-0.04-0.99.h5', 'EfficientNetB1-6-0.02-0.99.h5']"
      ]
     },
     "execution_count": 3,
     "metadata": {},
     "output_type": "execute_result"
    }
   ],
   "source": [
    "model_list = os.listdir(model_dir)\n",
    "model_list"
   ]
  },
  {
   "cell_type": "code",
   "execution_count": 4,
   "metadata": {},
   "outputs": [],
   "source": [
    "model = tf.keras.models.load_model(os.path.join(model_dir, model_list[1]))"
   ]
  },
  {
   "cell_type": "code",
   "execution_count": 5,
   "metadata": {},
   "outputs": [
    {
     "name": "stdout",
     "output_type": "stream",
     "text": [
      "Model: \"model\"\n",
      "_________________________________________________________________\n",
      "Layer (type)                 Output Shape              Param #   \n",
      "=================================================================\n",
      "input_2 (InputLayer)         [(None, 256, 256, 3)]     0         \n",
      "_________________________________________________________________\n",
      "efficientnetb1 (Functional)  (None, 1280)              6575239   \n",
      "_________________________________________________________________\n",
      "dense (Dense)                (None, 512)               655872    \n",
      "_________________________________________________________________\n",
      "batch_normalization (BatchNo (None, 512)               2048      \n",
      "_________________________________________________________________\n",
      "dense_1 (Dense)              (None, 10)                5130      \n",
      "=================================================================\n",
      "Total params: 7,238,289\n",
      "Trainable params: 7,175,210\n",
      "Non-trainable params: 63,079\n",
      "_________________________________________________________________\n"
     ]
    }
   ],
   "source": [
    "model.summary()"
   ]
  },
  {
   "cell_type": "markdown",
   "metadata": {},
   "source": [
    "# test model"
   ]
  },
  {
   "cell_type": "code",
   "execution_count": 6,
   "metadata": {},
   "outputs": [],
   "source": [
    "def test_model(img_path):\n",
    "    image = cv2.imread(img_path, cv2.IMREAD_COLOR)\n",
    "    image = cv2.cvtColor(image, cv2.COLOR_BGR2RGB)\n",
    "    image = cv2.resize(image, (256, 256))\n",
    "    image = image[np.newaxis, :, :, :]\n",
    "    pred = model.predict(image, batch_size=1)\n",
    "    return np.argmax(pred)"
   ]
  },
  {
   "cell_type": "code",
   "execution_count": 7,
   "metadata": {},
   "outputs": [],
   "source": [
    "with open(os.path.join(data_dir, \"place_10_label.json\"), \"r\") as f:\n",
    "    label_dict = json.load(f)"
   ]
  },
  {
   "cell_type": "code",
   "execution_count": 8,
   "metadata": {},
   "outputs": [
    {
     "data": {
      "text/plain": [
       "1939"
      ]
     },
     "execution_count": 8,
     "metadata": {},
     "output_type": "execute_result"
    }
   ],
   "source": [
    "image_list = glob.glob(test_dir + \"/*/*\")\n",
    "len(image_list)"
   ]
  },
  {
   "cell_type": "code",
   "execution_count": 9,
   "metadata": {},
   "outputs": [
    {
     "data": {
      "text/plain": [
       "['/home/ssac21/UDIGO/test_data/산/87.jpg',\n",
       " '/home/ssac21/UDIGO/test_data/산/183.jpg',\n",
       " '/home/ssac21/UDIGO/test_data/산/138.jpg',\n",
       " '/home/ssac21/UDIGO/test_data/산/6.jpg',\n",
       " '/home/ssac21/UDIGO/test_data/산/178.jpg',\n",
       " '/home/ssac21/UDIGO/test_data/산/180.jpg',\n",
       " '/home/ssac21/UDIGO/test_data/산/67.jpg',\n",
       " '/home/ssac21/UDIGO/test_data/산/192.jpg',\n",
       " '/home/ssac21/UDIGO/test_data/산/184.jpg',\n",
       " '/home/ssac21/UDIGO/test_data/산/153.jpg']"
      ]
     },
     "execution_count": 9,
     "metadata": {},
     "output_type": "execute_result"
    }
   ],
   "source": [
    "image_list[:10]"
   ]
  },
  {
   "cell_type": "code",
   "execution_count": 10,
   "metadata": {},
   "outputs": [
    {
     "data": {
      "application/vnd.jupyter.widget-view+json": {
       "model_id": "fc5d11791c4045cfbcb632e82b07c573",
       "version_major": 2,
       "version_minor": 0
      },
      "text/plain": [
       "HBox(children=(FloatProgress(value=0.0, max=1939.0), HTML(value='')))"
      ]
     },
     "metadata": {},
     "output_type": "display_data"
    },
    {
     "name": "stdout",
     "output_type": "stream",
     "text": [
      "Invalid image: /home/ssac21/UDIGO/test_data/아쿠아리움/070506553201908240084b19e-97ec-4ee2-b208-2c01c3c3fa1d.gif\n",
      "Invalid image: /home/ssac21/UDIGO/test_data/공원/30.jpg\n",
      "\n",
      "1937 data, test complete!\n"
     ]
    }
   ],
   "source": [
    "correct_dict = {}\n",
    "correct = 0\n",
    "n = 0\n",
    "\n",
    "for image in tqdm(image_list):\n",
    "    try:\n",
    "        pred = test_model(image)\n",
    "        n += 1\n",
    "\n",
    "        label = image.split(\"/\")[-2]\n",
    "        if label not in correct_dict:\n",
    "            correct_dict[label] = 0\n",
    "\n",
    "        label_encoding = label_dict[label]\n",
    "        if pred == label_encoding:\n",
    "            correct_dict[label] += 1\n",
    "            correct += 1\n",
    "    \n",
    "    except:\n",
    "        print(\"Invalid image:\", image)\n",
    "        continue\n",
    "        \n",
    "print(f\"{n} data, test complete!\")"
   ]
  },
  {
   "cell_type": "code",
   "execution_count": 11,
   "metadata": {},
   "outputs": [
    {
     "data": {
      "text/plain": [
       "{'산': 200,\n",
       " '미술관': 179,\n",
       " '호텔': 191,\n",
       " '아이스링크': 177,\n",
       " '아쿠아리움': 197,\n",
       " '다리': 201,\n",
       " '공원': 189,\n",
       " '공항': 156,\n",
       " '놀이동산': 79,\n",
       " '볼링장': 196}"
      ]
     },
     "execution_count": 11,
     "metadata": {},
     "output_type": "execute_result"
    }
   ],
   "source": [
    "correct_dict"
   ]
  },
  {
   "cell_type": "code",
   "execution_count": 12,
   "metadata": {},
   "outputs": [
    {
     "name": "stdout",
     "output_type": "stream",
     "text": [
      "Test Accuracy: 0.91\n"
     ]
    }
   ],
   "source": [
    "accuracy = round(correct / n, 2)\n",
    "print(\"Test Accuracy:\", accuracy)"
   ]
  }
 ],
 "metadata": {
  "kernelspec": {
   "display_name": "Python 3",
   "language": "python",
   "name": "python3"
  },
  "language_info": {
   "codemirror_mode": {
    "name": "ipython",
    "version": 3
   },
   "file_extension": ".py",
   "mimetype": "text/x-python",
   "name": "python",
   "nbconvert_exporter": "python",
   "pygments_lexer": "ipython3",
   "version": "3.7.6"
  },
  "toc": {
   "base_numbering": 1,
   "nav_menu": {},
   "number_sections": false,
   "sideBar": true,
   "skip_h1_title": false,
   "title_cell": "Contents",
   "title_sidebar": "Contents",
   "toc_cell": true,
   "toc_position": {},
   "toc_section_display": true,
   "toc_window_display": false
  }
 },
 "nbformat": 4,
 "nbformat_minor": 4
}
